{
 "cells": [
  {
   "cell_type": "markdown",
   "metadata": {
    "colab_type": "text",
    "id": "K4Rcd7JTcfRQ"
   },
   "source": [
    "## web scraping: Liverpool FC - Team\n",
    "#### use BeautifulSoup4 (using CSS selectors style)\n",
    "* web: https://www.liverpoolfc.com/team/first-team\n",
    "* Soup Sieve API: https://facelessuser.github.io/soupsieve/api/\n",
    "* BeautifulSoup doc: https://www.crummy.com/software/BeautifulSoup/bs4/doc/#"
   ]
  },
  {
   "cell_type": "markdown",
   "metadata": {},
   "source": [
    "---\n",
    "* author: Prasert Kanawattanachai\n",
    "* e-mail: prasert.k@chula.ac.th\n",
    "* [Chulalongkorn Business School, Thailand](https://www.cbs.chula.ac.th/en/home/)\n",
    "---"
   ]
  },
  {
   "cell_type": "code",
   "execution_count": 1,
   "metadata": {},
   "outputs": [
    {
     "data": {
      "image/jpeg": "[encoded data removed]",
      "text/html": [
       "\n",
       "        <iframe\n",
       "            width=\"720\"\n",
       "            height=\"405\"\n",
       "            src=\"https://www.youtube.com/embed/Y-_t5Hll09I\"\n",
       "            frameborder=\"0\"\n",
       "            allowfullscreen\n",
       "        ></iframe>\n",
       "        "
      ],
      "text/plain": [
       "<IPython.lib.display.YouTubeVideo at 0x228973bf788>"
      ]
     },
     "execution_count": 1,
     "metadata": {},
     "output_type": "execute_result"
    }
   ],
   "source": [
    "from IPython.display import YouTubeVideo\n",
    "YouTubeVideo('Y-_t5Hll09I', width=720, height=405)"
   ]
  },
  {
   "cell_type": "code",
   "execution_count": 2,
   "metadata": {
    "colab": {},
    "colab_type": "code",
    "id": "ZzKdSNP1cfRR"
   },
   "outputs": [],
   "source": [
    "# conda install beautifulsoup4 lxml requests pillow\n",
    "import pandas as pd\n",
    "import requests\n",
    "import bs4\n",
    "from bs4 import BeautifulSoup\n",
    "from PIL import Image # pillow package (Python Image Library)\n",
    "import io"
   ]
  },
  {
   "cell_type": "code",
   "execution_count": 3,
   "metadata": {
    "colab": {
     "base_uri": "https://localhost:8080/",
     "height": 35
    },
    "colab_type": "code",
    "id": "60UJjzA9cfRX",
    "outputId": "965ae477-9475-47d0-f1b3-b3bc6d147539"
   },
   "outputs": [
    {
     "name": "stdout",
     "output_type": "stream",
     "text": [
      "pandas version = 1.2.1\n",
      "bs4    version = 4.9.3\n"
     ]
    }
   ],
   "source": [
    "print(f'pandas version = {pd.__version__}')\n",
    "print(f'bs4    version = {bs4.__version__}') # beautifulsoup4"
   ]
  },
  {
   "cell_type": "code",
   "execution_count": 4,
   "metadata": {},
   "outputs": [
    {
     "data": {
      "text/plain": [
       "Timestamp('2021-02-13 10:19:35.110649')"
      ]
     },
     "execution_count": 4,
     "metadata": {},
     "output_type": "execute_result"
    }
   ],
   "source": [
    "pd.Timestamp.today()"
   ]
  },
  {
   "cell_type": "code",
   "execution_count": 5,
   "metadata": {
    "colab": {
     "base_uri": "https://localhost:8080/",
     "height": 35
    },
    "colab_type": "code",
    "id": "NWA7H_D_cfRl",
    "outputId": "6c937249-4450-4624-baf6-006f96458ab6"
   },
   "outputs": [
    {
     "data": {
      "text/plain": [
       "'<html id=\"top\" class=\"js\"><!--<![endif]--><head><script type=\"text/javascript\" async=\"\" src=\"//app.m'"
      ]
     },
     "execution_count": 5,
     "metadata": {},
     "output_type": "execute_result"
    }
   ],
   "source": [
    "# url='https://www.liverpoolfc.com/team/first-team'\n",
    "url='https://github.com/prasertcbs/basic-dataset/raw/master/html_pages/liverpoolfc.html'\n",
    "r=requests.get(url)\n",
    "r.text[:100]"
   ]
  },
  {
   "cell_type": "code",
   "execution_count": 6,
   "metadata": {
    "colab": {
     "base_uri": "https://localhost:8080/",
     "height": 35
    },
    "colab_type": "code",
    "id": "syV1RXXHcfRo",
    "outputId": "3008173a-a3a7-4010-ea55-8660a6d1d0df"
   },
   "outputs": [
    {
     "data": {
      "text/plain": [
       "bs4.BeautifulSoup"
      ]
     },
     "execution_count": 6,
     "metadata": {},
     "output_type": "execute_result"
    }
   ],
   "source": [
    "# s = BeautifulSoup(r.text, 'html.parser')\n",
    "s = BeautifulSoup(r.text, 'lxml')\n",
    "type(s)"
   ]
  },
  {
   "cell_type": "code",
   "execution_count": 7,
   "metadata": {},
   "outputs": [],
   "source": [
    "# print(s.prettify())"
   ]
  },
  {
   "cell_type": "code",
   "execution_count": 8,
   "metadata": {},
   "outputs": [
    {
     "name": "stdout",
     "output_type": "stream",
     "text": [
      "39\n"
     ]
    }
   ],
   "source": [
    "# CSS selector\n",
    "el=s.select('li.team-player-list-item')\n",
    "print(len(el))"
   ]
  },
  {
   "cell_type": "code",
   "execution_count": 9,
   "metadata": {},
   "outputs": [
    {
     "data": {
      "text/plain": [
       "<li class=\"team-player-list-item\">\n",
       "<a href=\"/team/first-team/player/alisson-becker\">\n",
       "<div class=\"img-wrap\">\n",
       "<img alt=\"Alisson Becker\" src=\"https://d3j2s6hdd6a7rg.cloudfront.net/v2/uploads/media/misc/0002/14/thumb_113591_misc_general_500.jpeg\"/>\n",
       "</div>\n",
       "<div class=\"number\">1</div>\n",
       "<div class=\"about\">\n",
       "<div class=\"name\">\n",
       "<span>Alisson</span> <span>Becker</span>\n",
       "</div>\n",
       "</div>\n",
       "</a>\n",
       "</li>"
      ]
     },
     "execution_count": 9,
     "metadata": {},
     "output_type": "execute_result"
    }
   ],
   "source": [
    "el[0]"
   ]
  },
  {
   "cell_type": "code",
   "execution_count": 10,
   "metadata": {},
   "outputs": [
    {
     "data": {
      "text/plain": [
       "<li class=\"team-player-list-item\">\n",
       "<a href=\"/team/first-team/player/adrian\">\n",
       "<div class=\"img-wrap\">\n",
       "<img alt=\"Adrian\" src=\"https://d3j2s6hdd6a7rg.cloudfront.net/v2/uploads/media/misc/0002/14/thumb_113604_misc_general_500.jpeg\"/>\n",
       "</div>\n",
       "<div class=\"number\">13</div>\n",
       "<div class=\"about\">\n",
       "<div class=\"name\">\n",
       "<span>Adrian</span>\n",
       "</div>\n",
       "</div>\n",
       "</a>\n",
       "</li>"
      ]
     },
     "execution_count": 10,
     "metadata": {},
     "output_type": "execute_result"
    }
   ],
   "source": [
    "el[1]"
   ]
  },
  {
   "cell_type": "code",
   "execution_count": 11,
   "metadata": {},
   "outputs": [
    {
     "name": "stdout",
     "output_type": "stream",
     "text": [
      "<li class=\"team-player-list-item\">\n",
      " <a href=\"/team/first-team/player/adrian\">\n",
      "  <div class=\"img-wrap\">\n",
      "   <img alt=\"Adrian\" src=\"https://d3j2s6hdd6a7rg.cloudfront.net/v2/uploads/media/misc/0002/14/thumb_113604_misc_general_500.jpeg\"/>\n",
      "  </div>\n",
      "  <div class=\"number\">\n",
      "   13\n",
      "  </div>\n",
      "  <div class=\"about\">\n",
      "   <div class=\"name\">\n",
      "    <span>\n",
      "     Adrian\n",
      "    </span>\n",
      "   </div>\n",
      "  </div>\n",
      " </a>\n",
      "</li>\n",
      "\n"
     ]
    }
   ],
   "source": [
    "e=el[1]\n",
    "print(e.prettify())"
   ]
  },
  {
   "cell_type": "code",
   "execution_count": 12,
   "metadata": {},
   "outputs": [
    {
     "data": {
      "text/plain": [
       "'13'"
      ]
     },
     "execution_count": 12,
     "metadata": {},
     "output_type": "execute_result"
    }
   ],
   "source": [
    "e.select_one('div.number').text"
   ]
  },
  {
   "cell_type": "code",
   "execution_count": 13,
   "metadata": {},
   "outputs": [
    {
     "data": {
      "text/plain": [
       "'\\nAdrian\\n'"
      ]
     },
     "execution_count": 13,
     "metadata": {},
     "output_type": "execute_result"
    }
   ],
   "source": [
    "e.select_one('div.name').text"
   ]
  },
  {
   "cell_type": "code",
   "execution_count": 14,
   "metadata": {},
   "outputs": [
    {
     "data": {
      "text/plain": [
       "<div class=\"img-wrap\">\n",
       "<img alt=\"Adrian\" src=\"https://d3j2s6hdd6a7rg.cloudfront.net/v2/uploads/media/misc/0002/14/thumb_113604_misc_general_500.jpeg\"/>\n",
       "</div>"
      ]
     },
     "execution_count": 14,
     "metadata": {},
     "output_type": "execute_result"
    }
   ],
   "source": [
    "e.select_one('div.img-wrap')"
   ]
  },
  {
   "cell_type": "code",
   "execution_count": 15,
   "metadata": {},
   "outputs": [
    {
     "data": {
      "text/plain": [
       "<img alt=\"Adrian\" src=\"https://d3j2s6hdd6a7rg.cloudfront.net/v2/uploads/media/misc/0002/14/thumb_113604_misc_general_500.jpeg\"/>"
      ]
     },
     "execution_count": 15,
     "metadata": {},
     "output_type": "execute_result"
    }
   ],
   "source": [
    "e.select_one('div.img-wrap>img')"
   ]
  },
  {
   "cell_type": "code",
   "execution_count": 16,
   "metadata": {},
   "outputs": [
    {
     "data": {
      "text/plain": [
       "<img alt=\"Adrian\" src=\"https://d3j2s6hdd6a7rg.cloudfront.net/v2/uploads/media/misc/0002/14/thumb_113604_misc_general_500.jpeg\"/>"
      ]
     },
     "execution_count": 16,
     "metadata": {},
     "output_type": "execute_result"
    }
   ],
   "source": [
    "e.select_one('div.img-wrap>img') # attributes"
   ]
  },
  {
   "cell_type": "code",
   "execution_count": 17,
   "metadata": {},
   "outputs": [
    {
     "data": {
      "text/plain": [
       "'Adrian'"
      ]
     },
     "execution_count": 17,
     "metadata": {},
     "output_type": "execute_result"
    }
   ],
   "source": [
    "e.select_one('div.img-wrap>img')['alt'] # attributes"
   ]
  },
  {
   "cell_type": "code",
   "execution_count": 18,
   "metadata": {},
   "outputs": [
    {
     "data": {
      "text/plain": [
       "'https://d3j2s6hdd6a7rg.cloudfront.net/v2/uploads/media/misc/0002/14/thumb_113604_misc_general_500.jpeg'"
      ]
     },
     "execution_count": 18,
     "metadata": {},
     "output_type": "execute_result"
    }
   ],
   "source": [
    "e.select_one('div.img-wrap>img')['src'] # attributes"
   ]
  },
  {
   "cell_type": "code",
   "execution_count": 19,
   "metadata": {},
   "outputs": [
    {
     "data": {
      "text/plain": [
       "[('Alisson Becker',\n",
       "  '1',\n",
       "  'https://d3j2s6hdd6a7rg.cloudfront.net/v2/uploads/media/misc/0002/14/thumb_113591_misc_general_500.jpeg'),\n",
       " ('Adrian',\n",
       "  '13',\n",
       "  'https://d3j2s6hdd6a7rg.cloudfront.net/v2/uploads/media/misc/0002/14/thumb_113604_misc_general_500.jpeg')]"
      ]
     },
     "execution_count": 19,
     "metadata": {},
     "output_type": "execute_result"
    }
   ],
   "source": [
    "rows=[] # list\n",
    "for e in el:\n",
    "    name=e.select_one('div.img-wrap>img')['alt'] # attributes\n",
    "    number=e.select_one('div.number').text\n",
    "    img_url=e.select_one('div.img-wrap>img')['src'] # attributes\n",
    "#     print(name, number, img_url)\n",
    "    rows.append((name, number, img_url))\n",
    "rows[:2]"
   ]
  },
  {
   "cell_type": "code",
   "execution_count": 20,
   "metadata": {},
   "outputs": [
    {
     "data": {
      "text/html": [
       "<div>\n",
       "<style scoped>\n",
       "    .dataframe tbody tr th:only-of-type {\n",
       "        vertical-align: middle;\n",
       "    }\n",
       "\n",
       "    .dataframe tbody tr th {\n",
       "        vertical-align: top;\n",
       "    }\n",
       "\n",
       "    .dataframe thead th {\n",
       "        text-align: right;\n",
       "    }\n",
       "</style>\n",
       "<table border=\"1\" class=\"dataframe\">\n",
       "  <thead>\n",
       "    <tr style=\"text-align: right;\">\n",
       "      <th></th>\n",
       "      <th>name</th>\n",
       "      <th>number</th>\n",
       "      <th>img_url</th>\n",
       "    </tr>\n",
       "  </thead>\n",
       "  <tbody>\n",
       "    <tr>\n",
       "      <th>0</th>\n",
       "      <td>Alisson Becker</td>\n",
       "      <td>1</td>\n",
       "      <td>https://d3j2s6hdd6a7rg.cloudfront.net/v2/uploa...</td>\n",
       "    </tr>\n",
       "    <tr>\n",
       "      <th>1</th>\n",
       "      <td>Adrian</td>\n",
       "      <td>13</td>\n",
       "      <td>https://d3j2s6hdd6a7rg.cloudfront.net/v2/uploa...</td>\n",
       "    </tr>\n",
       "    <tr>\n",
       "      <th>2</th>\n",
       "      <td>Caoimhin Kelleher</td>\n",
       "      <td>62</td>\n",
       "      <td>https://d3j2s6hdd6a7rg.cloudfront.net/v2/uploa...</td>\n",
       "    </tr>\n",
       "    <tr>\n",
       "      <th>3</th>\n",
       "      <td>Marcelo Pitaluga</td>\n",
       "      <td></td>\n",
       "      <td>https://d3j2s6hdd6a7rg.cloudfront.net/v2/uploa...</td>\n",
       "    </tr>\n",
       "    <tr>\n",
       "      <th>4</th>\n",
       "      <td>Virgil van Dijk</td>\n",
       "      <td>4</td>\n",
       "      <td>https://d3j2s6hdd6a7rg.cloudfront.net/v2/uploa...</td>\n",
       "    </tr>\n",
       "    <tr>\n",
       "      <th>5</th>\n",
       "      <td>Joe Gomez</td>\n",
       "      <td>12</td>\n",
       "      <td>https://d3j2s6hdd6a7rg.cloudfront.net/v2/uploa...</td>\n",
       "    </tr>\n",
       "    <tr>\n",
       "      <th>6</th>\n",
       "      <td>Ozan Kabak</td>\n",
       "      <td>19</td>\n",
       "      <td>https://d3j2s6hdd6a7rg.cloudfront.net/v2/uploa...</td>\n",
       "    </tr>\n",
       "    <tr>\n",
       "      <th>7</th>\n",
       "      <td>Kostas Tsimikas</td>\n",
       "      <td>21</td>\n",
       "      <td>https://d3j2s6hdd6a7rg.cloudfront.net/v2/uploa...</td>\n",
       "    </tr>\n",
       "    <tr>\n",
       "      <th>8</th>\n",
       "      <td>Andy Robertson</td>\n",
       "      <td>26</td>\n",
       "      <td>https://d3j2s6hdd6a7rg.cloudfront.net/v2/uploa...</td>\n",
       "    </tr>\n",
       "    <tr>\n",
       "      <th>9</th>\n",
       "      <td>Ben Davies</td>\n",
       "      <td>28</td>\n",
       "      <td>https://d3j2s6hdd6a7rg.cloudfront.net/v2/uploa...</td>\n",
       "    </tr>\n",
       "    <tr>\n",
       "      <th>10</th>\n",
       "      <td>Joel Matip</td>\n",
       "      <td>32</td>\n",
       "      <td>https://d3j2s6hdd6a7rg.cloudfront.net/v2/uploa...</td>\n",
       "    </tr>\n",
       "    <tr>\n",
       "      <th>11</th>\n",
       "      <td>Rhys Williams</td>\n",
       "      <td>46</td>\n",
       "      <td>https://d3j2s6hdd6a7rg.cloudfront.net/v2/uploa...</td>\n",
       "    </tr>\n",
       "    <tr>\n",
       "      <th>12</th>\n",
       "      <td>Nathaniel Phillips</td>\n",
       "      <td>47</td>\n",
       "      <td>https://d3j2s6hdd6a7rg.cloudfront.net/v2/uploa...</td>\n",
       "    </tr>\n",
       "    <tr>\n",
       "      <th>13</th>\n",
       "      <td>Trent Alexander-Arnold</td>\n",
       "      <td>66</td>\n",
       "      <td>https://d3j2s6hdd6a7rg.cloudfront.net/v2/uploa...</td>\n",
       "    </tr>\n",
       "    <tr>\n",
       "      <th>14</th>\n",
       "      <td>Neco Williams</td>\n",
       "      <td>76</td>\n",
       "      <td>https://d3j2s6hdd6a7rg.cloudfront.net/v2/uploa...</td>\n",
       "    </tr>\n",
       "    <tr>\n",
       "      <th>15</th>\n",
       "      <td>Fabinho</td>\n",
       "      <td>3</td>\n",
       "      <td>https://d3j2s6hdd6a7rg.cloudfront.net/v2/uploa...</td>\n",
       "    </tr>\n",
       "    <tr>\n",
       "      <th>16</th>\n",
       "      <td>Georginio Wijnaldum</td>\n",
       "      <td>5</td>\n",
       "      <td>https://d3j2s6hdd6a7rg.cloudfront.net/v2/uploa...</td>\n",
       "    </tr>\n",
       "    <tr>\n",
       "      <th>17</th>\n",
       "      <td>Thiago Alcantara</td>\n",
       "      <td>6</td>\n",
       "      <td>https://d3j2s6hdd6a7rg.cloudfront.net/v2/uploa...</td>\n",
       "    </tr>\n",
       "    <tr>\n",
       "      <th>18</th>\n",
       "      <td>James Milner</td>\n",
       "      <td>7</td>\n",
       "      <td>https://d3j2s6hdd6a7rg.cloudfront.net/v2/uploa...</td>\n",
       "    </tr>\n",
       "    <tr>\n",
       "      <th>19</th>\n",
       "      <td>Naby Keita</td>\n",
       "      <td>8</td>\n",
       "      <td>https://d3j2s6hdd6a7rg.cloudfront.net/v2/uploa...</td>\n",
       "    </tr>\n",
       "    <tr>\n",
       "      <th>20</th>\n",
       "      <td>Jordan Henderson</td>\n",
       "      <td>14</td>\n",
       "      <td>https://d3j2s6hdd6a7rg.cloudfront.net/v2/uploa...</td>\n",
       "    </tr>\n",
       "    <tr>\n",
       "      <th>21</th>\n",
       "      <td>Alex Oxlade-Chamberlain</td>\n",
       "      <td>15</td>\n",
       "      <td>https://d3j2s6hdd6a7rg.cloudfront.net/v2/uploa...</td>\n",
       "    </tr>\n",
       "    <tr>\n",
       "      <th>22</th>\n",
       "      <td>Curtis Jones</td>\n",
       "      <td>17</td>\n",
       "      <td>https://d3j2s6hdd6a7rg.cloudfront.net/v2/uploa...</td>\n",
       "    </tr>\n",
       "    <tr>\n",
       "      <th>23</th>\n",
       "      <td>Xherdan Shaqiri</td>\n",
       "      <td>23</td>\n",
       "      <td>https://d3j2s6hdd6a7rg.cloudfront.net/v2/uploa...</td>\n",
       "    </tr>\n",
       "    <tr>\n",
       "      <th>24</th>\n",
       "      <td>Ben Woodburn</td>\n",
       "      <td>58</td>\n",
       "      <td>https://d3j2s6hdd6a7rg.cloudfront.net/v2/uploa...</td>\n",
       "    </tr>\n",
       "    <tr>\n",
       "      <th>25</th>\n",
       "      <td>Roberto Firmino</td>\n",
       "      <td>9</td>\n",
       "      <td>https://d3j2s6hdd6a7rg.cloudfront.net/v2/uploa...</td>\n",
       "    </tr>\n",
       "    <tr>\n",
       "      <th>26</th>\n",
       "      <td>Sadio Mane</td>\n",
       "      <td>10</td>\n",
       "      <td>https://d3j2s6hdd6a7rg.cloudfront.net/v2/uploa...</td>\n",
       "    </tr>\n",
       "    <tr>\n",
       "      <th>27</th>\n",
       "      <td>Mohamed Salah</td>\n",
       "      <td>11</td>\n",
       "      <td>https://d3j2s6hdd6a7rg.cloudfront.net/v2/uploa...</td>\n",
       "    </tr>\n",
       "    <tr>\n",
       "      <th>28</th>\n",
       "      <td>Diogo Jota</td>\n",
       "      <td>20</td>\n",
       "      <td>https://d3j2s6hdd6a7rg.cloudfront.net/v2/uploa...</td>\n",
       "    </tr>\n",
       "    <tr>\n",
       "      <th>29</th>\n",
       "      <td>Divock Origi</td>\n",
       "      <td>27</td>\n",
       "      <td>https://d3j2s6hdd6a7rg.cloudfront.net/v2/uploa...</td>\n",
       "    </tr>\n",
       "    <tr>\n",
       "      <th>30</th>\n",
       "      <td>Marko Grujic</td>\n",
       "      <td>16</td>\n",
       "      <td>https://d3j2s6hdd6a7rg.cloudfront.net/v2/uploa...</td>\n",
       "    </tr>\n",
       "    <tr>\n",
       "      <th>31</th>\n",
       "      <td>Takumi Minamino</td>\n",
       "      <td>18</td>\n",
       "      <td>https://d3j2s6hdd6a7rg.cloudfront.net/v2/uploa...</td>\n",
       "    </tr>\n",
       "    <tr>\n",
       "      <th>32</th>\n",
       "      <td>Loris Karius</td>\n",
       "      <td>22</td>\n",
       "      <td>https://d3j2s6hdd6a7rg.cloudfront.net/v2/uploa...</td>\n",
       "    </tr>\n",
       "    <tr>\n",
       "      <th>33</th>\n",
       "      <td>Sheyi Ojo</td>\n",
       "      <td>54</td>\n",
       "      <td>https://d3j2s6hdd6a7rg.cloudfront.net/v2/uploa...</td>\n",
       "    </tr>\n",
       "    <tr>\n",
       "      <th>34</th>\n",
       "      <td>Harry Wilson</td>\n",
       "      <td>59</td>\n",
       "      <td>https://d3j2s6hdd6a7rg.cloudfront.net/v2/uploa...</td>\n",
       "    </tr>\n",
       "    <tr>\n",
       "      <th>35</th>\n",
       "      <td>Harvey Elliott</td>\n",
       "      <td>67</td>\n",
       "      <td>https://d3j2s6hdd6a7rg.cloudfront.net/v2/uploa...</td>\n",
       "    </tr>\n",
       "    <tr>\n",
       "      <th>36</th>\n",
       "      <td>Sepp van den Berg</td>\n",
       "      <td>72</td>\n",
       "      <td>https://d3j2s6hdd6a7rg.cloudfront.net/v2/uploa...</td>\n",
       "    </tr>\n",
       "    <tr>\n",
       "      <th>37</th>\n",
       "      <td>Kamil Grabara</td>\n",
       "      <td>73</td>\n",
       "      <td>https://d3j2s6hdd6a7rg.cloudfront.net/v2/uploa...</td>\n",
       "    </tr>\n",
       "    <tr>\n",
       "      <th>38</th>\n",
       "      <td>Taiwo Awoniyi</td>\n",
       "      <td></td>\n",
       "      <td>https://d3j2s6hdd6a7rg.cloudfront.net/v2/uploa...</td>\n",
       "    </tr>\n",
       "  </tbody>\n",
       "</table>\n",
       "</div>"
      ],
      "text/plain": [
       "                       name number  \\\n",
       "0            Alisson Becker      1   \n",
       "1                    Adrian     13   \n",
       "2         Caoimhin Kelleher     62   \n",
       "3          Marcelo Pitaluga          \n",
       "4           Virgil van Dijk      4   \n",
       "5                 Joe Gomez     12   \n",
       "6                Ozan Kabak     19   \n",
       "7           Kostas Tsimikas     21   \n",
       "8            Andy Robertson     26   \n",
       "9                Ben Davies     28   \n",
       "10               Joel Matip     32   \n",
       "11            Rhys Williams     46   \n",
       "12       Nathaniel Phillips     47   \n",
       "13   Trent Alexander-Arnold     66   \n",
       "14            Neco Williams     76   \n",
       "15                  Fabinho      3   \n",
       "16      Georginio Wijnaldum      5   \n",
       "17         Thiago Alcantara      6   \n",
       "18             James Milner      7   \n",
       "19               Naby Keita      8   \n",
       "20         Jordan Henderson     14   \n",
       "21  Alex Oxlade-Chamberlain     15   \n",
       "22             Curtis Jones     17   \n",
       "23          Xherdan Shaqiri     23   \n",
       "24             Ben Woodburn     58   \n",
       "25          Roberto Firmino      9   \n",
       "26               Sadio Mane     10   \n",
       "27            Mohamed Salah     11   \n",
       "28               Diogo Jota     20   \n",
       "29             Divock Origi     27   \n",
       "30             Marko Grujic     16   \n",
       "31          Takumi Minamino     18   \n",
       "32             Loris Karius     22   \n",
       "33                Sheyi Ojo     54   \n",
       "34             Harry Wilson     59   \n",
       "35           Harvey Elliott     67   \n",
       "36        Sepp van den Berg     72   \n",
       "37            Kamil Grabara     73   \n",
       "38            Taiwo Awoniyi          \n",
       "\n",
       "                                              img_url  \n",
       "0   https://d3j2s6hdd6a7rg.cloudfront.net/v2/uploa...  \n",
       "1   https://d3j2s6hdd6a7rg.cloudfront.net/v2/uploa...  \n",
       "2   https://d3j2s6hdd6a7rg.cloudfront.net/v2/uploa...  \n",
       "3   https://d3j2s6hdd6a7rg.cloudfront.net/v2/uploa...  \n",
       "4   https://d3j2s6hdd6a7rg.cloudfront.net/v2/uploa...  \n",
       "5   https://d3j2s6hdd6a7rg.cloudfront.net/v2/uploa...  \n",
       "6   https://d3j2s6hdd6a7rg.cloudfront.net/v2/uploa...  \n",
       "7   https://d3j2s6hdd6a7rg.cloudfront.net/v2/uploa...  \n",
       "8   https://d3j2s6hdd6a7rg.cloudfront.net/v2/uploa...  \n",
       "9   https://d3j2s6hdd6a7rg.cloudfront.net/v2/uploa...  \n",
       "10  https://d3j2s6hdd6a7rg.cloudfront.net/v2/uploa...  \n",
       "11  https://d3j2s6hdd6a7rg.cloudfront.net/v2/uploa...  \n",
       "12  https://d3j2s6hdd6a7rg.cloudfront.net/v2/uploa...  \n",
       "13  https://d3j2s6hdd6a7rg.cloudfront.net/v2/uploa...  \n",
       "14  https://d3j2s6hdd6a7rg.cloudfront.net/v2/uploa...  \n",
       "15  https://d3j2s6hdd6a7rg.cloudfront.net/v2/uploa...  \n",
       "16  https://d3j2s6hdd6a7rg.cloudfront.net/v2/uploa...  \n",
       "17  https://d3j2s6hdd6a7rg.cloudfront.net/v2/uploa...  \n",
       "18  https://d3j2s6hdd6a7rg.cloudfront.net/v2/uploa...  \n",
       "19  https://d3j2s6hdd6a7rg.cloudfront.net/v2/uploa...  \n",
       "20  https://d3j2s6hdd6a7rg.cloudfront.net/v2/uploa...  \n",
       "21  https://d3j2s6hdd6a7rg.cloudfront.net/v2/uploa...  \n",
       "22  https://d3j2s6hdd6a7rg.cloudfront.net/v2/uploa...  \n",
       "23  https://d3j2s6hdd6a7rg.cloudfront.net/v2/uploa...  \n",
       "24  https://d3j2s6hdd6a7rg.cloudfront.net/v2/uploa...  \n",
       "25  https://d3j2s6hdd6a7rg.cloudfront.net/v2/uploa...  \n",
       "26  https://d3j2s6hdd6a7rg.cloudfront.net/v2/uploa...  \n",
       "27  https://d3j2s6hdd6a7rg.cloudfront.net/v2/uploa...  \n",
       "28  https://d3j2s6hdd6a7rg.cloudfront.net/v2/uploa...  \n",
       "29  https://d3j2s6hdd6a7rg.cloudfront.net/v2/uploa...  \n",
       "30  https://d3j2s6hdd6a7rg.cloudfront.net/v2/uploa...  \n",
       "31  https://d3j2s6hdd6a7rg.cloudfront.net/v2/uploa...  \n",
       "32  https://d3j2s6hdd6a7rg.cloudfront.net/v2/uploa...  \n",
       "33  https://d3j2s6hdd6a7rg.cloudfront.net/v2/uploa...  \n",
       "34  https://d3j2s6hdd6a7rg.cloudfront.net/v2/uploa...  \n",
       "35  https://d3j2s6hdd6a7rg.cloudfront.net/v2/uploa...  \n",
       "36  https://d3j2s6hdd6a7rg.cloudfront.net/v2/uploa...  \n",
       "37  https://d3j2s6hdd6a7rg.cloudfront.net/v2/uploa...  \n",
       "38  https://d3j2s6hdd6a7rg.cloudfront.net/v2/uploa...  "
      ]
     },
     "execution_count": 20,
     "metadata": {},
     "output_type": "execute_result"
    }
   ],
   "source": [
    "df=pd.DataFrame(rows[:], columns=['name', 'number', 'img_url'])\n",
    "df"
   ]
  },
  {
   "cell_type": "code",
   "execution_count": 29,
   "metadata": {},
   "outputs": [],
   "source": [
    "df.to_csv('liverpool.csv', index=False)\n",
    "df.to_excel('liverpool.xlsx', index=False)"
   ]
  },
  {
   "cell_type": "markdown",
   "metadata": {},
   "source": [
    "---"
   ]
  },
  {
   "cell_type": "code",
   "execution_count": 22,
   "metadata": {},
   "outputs": [],
   "source": [
    "from IPython.display import HTML"
   ]
  },
  {
   "cell_type": "code",
   "execution_count": 23,
   "metadata": {},
   "outputs": [],
   "source": [
    "def to_html_img(url, alt=None, width=100):\n",
    "    '''\n",
    "    add img tag to url\n",
    "    '''\n",
    "    if alt==None:\n",
    "        alt=''\n",
    "    return f'<img alt=\"{alt}\" src=\"{url}\" width=\"{width}\"/>'\n",
    "\n",
    "def save_img(content, imgfilename):\n",
    "    '''\n",
    "    save image to file\n",
    "    '''\n",
    "    with open(imgfilename, 'wb') as f:\n",
    "        f.write(content)\n",
    "        \n",
    "def download_img(url, imgfilename=None):\n",
    "    '''\n",
    "    download image from url\n",
    "    '''\n",
    "    r=requests.get(url)\n",
    "    if imgfilename==None:\n",
    "        imgfilename = f'{str(uuid.uuid1())[:8]}.png'\n",
    "    save_img(r.content, imgfilename)\n",
    "    print(f'{imgfilename} saved')"
   ]
  },
  {
   "cell_type": "code",
   "execution_count": 28,
   "metadata": {},
   "outputs": [
    {
     "name": "stdout",
     "output_type": "stream",
     "text": [
      "Alisson Becker.jpg saved\n",
      "Adrian.jpg saved\n",
      "Caoimhin Kelleher.jpg saved\n",
      "Marcelo Pitaluga.jpg saved\n",
      "Virgil van Dijk.jpg saved\n",
      "Joe Gomez.jpg saved\n",
      "Ozan Kabak.jpg saved\n",
      "Kostas Tsimikas.jpg saved\n",
      "Andy Robertson.jpg saved\n",
      "Ben Davies.jpg saved\n",
      "Joel Matip.jpg saved\n",
      "Rhys Williams.jpg saved\n",
      "Nathaniel Phillips.jpg saved\n",
      "Trent Alexander-Arnold.jpg saved\n",
      "Neco Williams.jpg saved\n",
      "Fabinho.jpg saved\n",
      "Georginio Wijnaldum.jpg saved\n",
      "Thiago Alcantara.jpg saved\n",
      "James Milner.jpg saved\n",
      "Naby Keita.jpg saved\n",
      "Jordan Henderson.jpg saved\n",
      "Alex Oxlade-Chamberlain.jpg saved\n",
      "Curtis Jones.jpg saved\n",
      "Xherdan Shaqiri.jpg saved\n",
      "Ben Woodburn.jpg saved\n",
      "Roberto Firmino.jpg saved\n",
      "Sadio Mane.jpg saved\n",
      "Mohamed Salah.jpg saved\n",
      "Diogo Jota.jpg saved\n",
      "Divock Origi.jpg saved\n",
      "Marko Grujic.jpg saved\n",
      "Takumi Minamino.jpg saved\n",
      "Loris Karius.jpg saved\n",
      "Sheyi Ojo.jpg saved\n",
      "Harry Wilson.jpg saved\n",
      "Harvey Elliott.jpg saved\n",
      "Sepp van den Berg.jpg saved\n",
      "Kamil Grabara.jpg saved\n",
      "Taiwo Awoniyi.jpg saved\n"
     ]
    },
    {
     "data": {
      "text/plain": [
       "0     None\n",
       "1     None\n",
       "2     None\n",
       "3     None\n",
       "4     None\n",
       "5     None\n",
       "6     None\n",
       "7     None\n",
       "8     None\n",
       "9     None\n",
       "10    None\n",
       "11    None\n",
       "12    None\n",
       "13    None\n",
       "14    None\n",
       "15    None\n",
       "16    None\n",
       "17    None\n",
       "18    None\n",
       "19    None\n",
       "20    None\n",
       "21    None\n",
       "22    None\n",
       "23    None\n",
       "24    None\n",
       "25    None\n",
       "26    None\n",
       "27    None\n",
       "28    None\n",
       "29    None\n",
       "30    None\n",
       "31    None\n",
       "32    None\n",
       "33    None\n",
       "34    None\n",
       "35    None\n",
       "36    None\n",
       "37    None\n",
       "38    None\n",
       "dtype: object"
      ]
     },
     "execution_count": 28,
     "metadata": {},
     "output_type": "execute_result"
    }
   ],
   "source": [
    "df.apply(lambda r: download_img(r['img_url'], f\"{r['name']}.jpg\"), axis=1)"
   ]
  },
  {
   "cell_type": "code",
   "execution_count": 24,
   "metadata": {},
   "outputs": [
    {
     "data": {
      "text/plain": [
       "'<img alt=\"\" src=\"https://d3j2s6hdd6a7rg.cloudfront.net/v2/uploads/media/misc/0001/70/thumb_69996_misc_general_500.jpeg\" width=\"100\"/>'"
      ]
     },
     "execution_count": 24,
     "metadata": {},
     "output_type": "execute_result"
    }
   ],
   "source": [
    "to_html_img('https://d3j2s6hdd6a7rg.cloudfront.net/v2/uploads/media/misc/0001/70/thumb_69996_misc_general_500.jpeg')"
   ]
  },
  {
   "cell_type": "code",
   "execution_count": 25,
   "metadata": {},
   "outputs": [
    {
     "data": {
      "text/html": [
       "<div>\n",
       "<style scoped>\n",
       "    .dataframe tbody tr th:only-of-type {\n",
       "        vertical-align: middle;\n",
       "    }\n",
       "\n",
       "    .dataframe tbody tr th {\n",
       "        vertical-align: top;\n",
       "    }\n",
       "\n",
       "    .dataframe thead th {\n",
       "        text-align: right;\n",
       "    }\n",
       "</style>\n",
       "<table border=\"1\" class=\"dataframe\">\n",
       "  <thead>\n",
       "    <tr style=\"text-align: right;\">\n",
       "      <th></th>\n",
       "      <th>name</th>\n",
       "      <th>number</th>\n",
       "      <th>img_url</th>\n",
       "      <th>img</th>\n",
       "    </tr>\n",
       "  </thead>\n",
       "  <tbody>\n",
       "    <tr>\n",
       "      <th>0</th>\n",
       "      <td>Alisson Becker</td>\n",
       "      <td>1</td>\n",
       "      <td>https://d3j2s6hdd6a7rg.cloudfront.net/v2/uploa...</td>\n",
       "      <td>&lt;img alt=\"Alisson Becker\" src=\"https://d3j2s6h...</td>\n",
       "    </tr>\n",
       "    <tr>\n",
       "      <th>1</th>\n",
       "      <td>Adrian</td>\n",
       "      <td>13</td>\n",
       "      <td>https://d3j2s6hdd6a7rg.cloudfront.net/v2/uploa...</td>\n",
       "      <td>&lt;img alt=\"Adrian\" src=\"https://d3j2s6hdd6a7rg....</td>\n",
       "    </tr>\n",
       "    <tr>\n",
       "      <th>2</th>\n",
       "      <td>Caoimhin Kelleher</td>\n",
       "      <td>62</td>\n",
       "      <td>https://d3j2s6hdd6a7rg.cloudfront.net/v2/uploa...</td>\n",
       "      <td>&lt;img alt=\"Caoimhin Kelleher\" src=\"https://d3j2...</td>\n",
       "    </tr>\n",
       "    <tr>\n",
       "      <th>3</th>\n",
       "      <td>Marcelo Pitaluga</td>\n",
       "      <td></td>\n",
       "      <td>https://d3j2s6hdd6a7rg.cloudfront.net/v2/uploa...</td>\n",
       "      <td>&lt;img alt=\"Marcelo Pitaluga\" src=\"https://d3j2s...</td>\n",
       "    </tr>\n",
       "    <tr>\n",
       "      <th>4</th>\n",
       "      <td>Virgil van Dijk</td>\n",
       "      <td>4</td>\n",
       "      <td>https://d3j2s6hdd6a7rg.cloudfront.net/v2/uploa...</td>\n",
       "      <td>&lt;img alt=\"Virgil van Dijk\" src=\"https://d3j2s6...</td>\n",
       "    </tr>\n",
       "  </tbody>\n",
       "</table>\n",
       "</div>"
      ],
      "text/plain": [
       "                name number  \\\n",
       "0     Alisson Becker      1   \n",
       "1             Adrian     13   \n",
       "2  Caoimhin Kelleher     62   \n",
       "3   Marcelo Pitaluga          \n",
       "4    Virgil van Dijk      4   \n",
       "\n",
       "                                             img_url  \\\n",
       "0  https://d3j2s6hdd6a7rg.cloudfront.net/v2/uploa...   \n",
       "1  https://d3j2s6hdd6a7rg.cloudfront.net/v2/uploa...   \n",
       "2  https://d3j2s6hdd6a7rg.cloudfront.net/v2/uploa...   \n",
       "3  https://d3j2s6hdd6a7rg.cloudfront.net/v2/uploa...   \n",
       "4  https://d3j2s6hdd6a7rg.cloudfront.net/v2/uploa...   \n",
       "\n",
       "                                                 img  \n",
       "0  <img alt=\"Alisson Becker\" src=\"https://d3j2s6h...  \n",
       "1  <img alt=\"Adrian\" src=\"https://d3j2s6hdd6a7rg....  \n",
       "2  <img alt=\"Caoimhin Kelleher\" src=\"https://d3j2...  \n",
       "3  <img alt=\"Marcelo Pitaluga\" src=\"https://d3j2s...  \n",
       "4  <img alt=\"Virgil van Dijk\" src=\"https://d3j2s6...  "
      ]
     },
     "execution_count": 25,
     "metadata": {},
     "output_type": "execute_result"
    }
   ],
   "source": [
    "df['img']=df.apply(lambda r: to_html_img(r['img_url'], r['name'], 100), axis=1)\n",
    "df.head()"
   ]
  },
  {
   "cell_type": "code",
   "execution_count": 26,
   "metadata": {},
   "outputs": [
    {
     "data": {
      "text/html": [
       "<table border=\"1\" class=\"dataframe\">\n",
       "  <thead>\n",
       "    <tr style=\"text-align: right;\">\n",
       "      <th></th>\n",
       "      <th>name</th>\n",
       "      <th>number</th>\n",
       "      <th>img</th>\n",
       "    </tr>\n",
       "  </thead>\n",
       "  <tbody>\n",
       "    <tr>\n",
       "      <th>0</th>\n",
       "      <td>Alisson Becker</td>\n",
       "      <td>1</td>\n",
       "      <td><img alt=\"Alisson Becker\" src=\"https://d3j2s6hdd6a7rg.cloudfront.net/v2/uploads/media/misc/0002/14/thumb_113591_misc_general_500.jpeg\" width=\"100\"/></td>\n",
       "    </tr>\n",
       "    <tr>\n",
       "      <th>1</th>\n",
       "      <td>Adrian</td>\n",
       "      <td>13</td>\n",
       "      <td><img alt=\"Adrian\" src=\"https://d3j2s6hdd6a7rg.cloudfront.net/v2/uploads/media/misc/0002/14/thumb_113604_misc_general_500.jpeg\" width=\"100\"/></td>\n",
       "    </tr>\n",
       "    <tr>\n",
       "      <th>2</th>\n",
       "      <td>Caoimhin Kelleher</td>\n",
       "      <td>62</td>\n",
       "      <td><img alt=\"Caoimhin Kelleher\" src=\"https://d3j2s6hdd6a7rg.cloudfront.net/v2/uploads/media/misc/0002/14/thumb_113593_misc_general_500.jpeg\" width=\"100\"/></td>\n",
       "    </tr>\n",
       "    <tr>\n",
       "      <th>3</th>\n",
       "      <td>Marcelo Pitaluga</td>\n",
       "      <td></td>\n",
       "      <td><img alt=\"Marcelo Pitaluga\" src=\"https://d3j2s6hdd6a7rg.cloudfront.net/v2/uploads/media/misc/0002/13/thumb_112241_misc_general_500.jpeg\" width=\"100\"/></td>\n",
       "    </tr>\n",
       "    <tr>\n",
       "      <th>4</th>\n",
       "      <td>Virgil van Dijk</td>\n",
       "      <td>4</td>\n",
       "      <td><img alt=\"Virgil van Dijk\" src=\"https://d3j2s6hdd6a7rg.cloudfront.net/v2/uploads/media/misc/0002/14/thumb_113617_misc_general_500.jpeg\" width=\"100\"/></td>\n",
       "    </tr>\n",
       "  </tbody>\n",
       "</table>"
      ],
      "text/plain": [
       "<IPython.core.display.HTML object>"
      ]
     },
     "execution_count": 26,
     "metadata": {},
     "output_type": "execute_result"
    }
   ],
   "source": [
    "HTML(df[:5][['name', 'number', 'img']].to_html(escape=False))"
   ]
  },
  {
   "cell_type": "markdown",
   "metadata": {},
   "source": [
    "---"
   ]
  }
 ],
 "metadata": {
  "colab": {
   "collapsed_sections": [],
   "name": "webscraping_akb48.ipynb",
   "provenance": [],
   "toc_visible": true,
   "version": "0.3.2"
  },
  "kernelspec": {
   "display_name": "Python 3",
   "language": "python",
   "name": "python3"
  },
  "language_info": {
   "codemirror_mode": {
    "name": "ipython",
    "version": 3
   },
   "file_extension": ".py",
   "mimetype": "text/x-python",
   "name": "python",
   "nbconvert_exporter": "python",
   "pygments_lexer": "ipython3",
   "version": "3.7.9"
  },
  "widgets": {
   "application/vnd.jupyter.widget-state+json": {
    "state": {},
    "version_major": 2,
    "version_minor": 0
   }
  }
 },
 "nbformat": 4,
 "nbformat_minor": 4
}
