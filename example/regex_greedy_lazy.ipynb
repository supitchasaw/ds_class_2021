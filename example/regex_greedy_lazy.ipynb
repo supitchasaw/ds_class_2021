{
 "cells": [
  {
   "cell_type": "markdown",
   "id": "turned-latter",
   "metadata": {},
   "source": [
    "# greedy vs lazy"
   ]
  },
  {
   "cell_type": "code",
   "execution_count": 1,
   "id": "threaded-apple",
   "metadata": {},
   "outputs": [],
   "source": [
    "import re # regular expression"
   ]
  },
  {
   "cell_type": "markdown",
   "id": "narrative-debate",
   "metadata": {},
   "source": [
    "## concept"
   ]
  },
  {
   "cell_type": "code",
   "execution_count": 23,
   "id": "portuguese-preference",
   "metadata": {},
   "outputs": [],
   "source": [
    "s='price 30 (small S), 45 (medium M), 60 (large L)'\n",
    "# ['small', 'medium', 'large']"
   ]
  },
  {
   "cell_type": "code",
   "execution_count": 7,
   "id": "widespread-transformation",
   "metadata": {},
   "outputs": [
    {
     "data": {
      "text/plain": [
       "['(small), 45 (medium), 60 (large))))']"
      ]
     },
     "execution_count": 7,
     "metadata": {},
     "output_type": "execute_result"
    }
   ],
   "source": [
    "re.findall(r'\\(.*\\)', s) # greedy default"
   ]
  },
  {
   "cell_type": "code",
   "execution_count": 21,
   "id": "ecological-local",
   "metadata": {},
   "outputs": [
    {
     "data": {
      "text/plain": [
       "['(small)', '(medium)', '(large)']"
      ]
     },
     "execution_count": 21,
     "metadata": {},
     "output_type": "execute_result"
    }
   ],
   "source": [
    "re.findall('\\(.*?\\)', s) # lazy [?*+]? {0,}?"
   ]
  },
  {
   "cell_type": "code",
   "execution_count": 32,
   "id": "analyzed-yield",
   "metadata": {},
   "outputs": [
    {
     "data": {
      "text/plain": [
       "['small S), 45 (medium M), 60 (large L)']"
      ]
     },
     "execution_count": 32,
     "metadata": {},
     "output_type": "execute_result"
    }
   ],
   "source": [
    "re.findall('(?<=\\().*', s) # lazy [?*+]? {0,}?"
   ]
  },
  {
   "cell_type": "code",
   "execution_count": 33,
   "id": "committed-drove",
   "metadata": {},
   "outputs": [
    {
     "data": {
      "text/plain": [
       "['price 30 (small S), 45 (medium M), 60 (large L', '']"
      ]
     },
     "execution_count": 33,
     "metadata": {},
     "output_type": "execute_result"
    }
   ],
   "source": [
    "re.findall('.*(?=\\))', s) # lazy [?*+]? {0,}?"
   ]
  },
  {
   "cell_type": "code",
   "execution_count": 34,
   "id": "friendly-forth",
   "metadata": {},
   "outputs": [
    {
     "data": {
      "text/plain": [
       "['small S), 45 (medium M), 60 (large L']"
      ]
     },
     "execution_count": 34,
     "metadata": {},
     "output_type": "execute_result"
    }
   ],
   "source": [
    "re.findall('(?<=\\().*(?=\\))', s) # lazy [?*+]? {0,}?"
   ]
  },
  {
   "cell_type": "code",
   "execution_count": 37,
   "id": "bibliographic-tablet",
   "metadata": {},
   "outputs": [
    {
     "data": {
      "text/plain": [
       "['small S', 'medium M', 'large L']"
      ]
     },
     "execution_count": 37,
     "metadata": {},
     "output_type": "execute_result"
    }
   ],
   "source": [
    "re.findall('(?<=\\().*?(?=\\))', s) # lazy [?*+]? {0,}?"
   ]
  },
  {
   "cell_type": "markdown",
   "id": "competent-banner",
   "metadata": {},
   "source": [
    "## html tag"
   ]
  },
  {
   "cell_type": "code",
   "execution_count": 8,
   "id": "broad-defensive",
   "metadata": {},
   "outputs": [
    {
     "data": {
      "text/plain": [
       "'<h1>hello <b>world</b> 2021. <u>Welcome to regex.</u></h1>'"
      ]
     },
     "execution_count": 8,
     "metadata": {},
     "output_type": "execute_result"
    }
   ],
   "source": [
    "s='<h1>hello <b>world</b> 2021. <u>Welcome to regex.</u></h1>'\n",
    "s"
   ]
  },
  {
   "cell_type": "code",
   "execution_count": 9,
   "id": "extreme-doubt",
   "metadata": {},
   "outputs": [
    {
     "data": {
      "text/plain": [
       "['<b>world</b>']"
      ]
     },
     "execution_count": 9,
     "metadata": {},
     "output_type": "execute_result"
    }
   ],
   "source": [
    "re.findall('<b>.*</b>', s)"
   ]
  },
  {
   "cell_type": "code",
   "execution_count": 10,
   "id": "threatened-reunion",
   "metadata": {},
   "outputs": [
    {
     "data": {
      "text/plain": [
       "['<b>world</b> 2021. <u>Welcome to regex.</u>']"
      ]
     },
     "execution_count": 10,
     "metadata": {},
     "output_type": "execute_result"
    }
   ],
   "source": [
    "re.findall('<[bu]>.*</[bu]>', s)"
   ]
  },
  {
   "cell_type": "code",
   "execution_count": 11,
   "id": "premium-march",
   "metadata": {},
   "outputs": [
    {
     "data": {
      "text/plain": [
       "['<b>world</b>', '<u>Welcome to regex.</u>']"
      ]
     },
     "execution_count": 11,
     "metadata": {},
     "output_type": "execute_result"
    }
   ],
   "source": [
    "re.findall('<[bu]>.*?</[bu]>', s)"
   ]
  },
  {
   "cell_type": "code",
   "execution_count": null,
   "id": "abandoned-spice",
   "metadata": {},
   "outputs": [],
   "source": [
    "re.findall('(?<=<[bu]>).*?(?=</[bu]>)', s)"
   ]
  },
  {
   "cell_type": "code",
   "execution_count": 12,
   "id": "egyptian-authority",
   "metadata": {},
   "outputs": [
    {
     "data": {
      "text/plain": [
       "['Peter Parker spiderman@']"
      ]
     },
     "execution_count": 12,
     "metadata": {},
     "output_type": "execute_result"
    }
   ],
   "source": [
    "s='Peter Parker spiderman@sony.com '\n",
    "re.findall('.*@', s"
   ]
  },
  {
   "cell_type": "code",
   "execution_count": 14,
   "id": "early-acoustic",
   "metadata": {},
   "outputs": [
    {
     "data": {
      "text/plain": [
       "['spiderman@']"
      ]
     },
     "execution_count": 14,
     "metadata": {},
     "output_type": "execute_result"
    }
   ],
   "source": [
    "re.findall('\\w+@', s) # \\w alphanumeric a-z A-z 0-9"
   ]
  },
  {
   "cell_type": "code",
   "execution_count": 19,
   "id": "alpine-piano",
   "metadata": {},
   "outputs": [
    {
     "data": {
      "text/plain": [
       "'spiderman'"
      ]
     },
     "execution_count": 19,
     "metadata": {},
     "output_type": "execute_result"
    }
   ],
   "source": [
    "re.findall('\\w+(?=@)', s)[0] #lookahead (?=)"
   ]
  },
  {
   "cell_type": "code",
   "execution_count": 18,
   "id": "unique-swimming",
   "metadata": {},
   "outputs": [
    {
     "data": {
      "text/plain": [
       "'sony.com'"
      ]
     },
     "execution_count": 18,
     "metadata": {},
     "output_type": "execute_result"
    }
   ],
   "source": [
    "re.findall('(?<=@).*', s)[0] #lookbehind (?<=)"
   ]
  },
  {
   "cell_type": "markdown",
   "id": "pointed-cannon",
   "metadata": {},
   "source": [
    "# lookaround, lookahead (?=), lookbehind (?<=)"
   ]
  },
  {
   "cell_type": "code",
   "execution_count": null,
   "id": "herbal-charger",
   "metadata": {},
   "outputs": [],
   "source": [
    "s='Peter Parker (spiderman@sony.com), Tony Stark (ironman@avenger.com), Natasha Romanoff (blackwidow@marvel.com), Clark Kent (superman@dc.com)'"
   ]
  },
  {
   "cell_type": "code",
   "execution_count": null,
   "id": "geographic-seminar",
   "metadata": {},
   "outputs": [],
   "source": [
    "re.findall('\\(.*\\)', s)"
   ]
  },
  {
   "cell_type": "code",
   "execution_count": null,
   "id": "controlling-framing",
   "metadata": {},
   "outputs": [],
   "source": [
    "re.findall('\\(.*?\\)', s)"
   ]
  },
  {
   "cell_type": "code",
   "execution_count": null,
   "id": "passing-offering",
   "metadata": {},
   "outputs": [],
   "source": [
    "re.findall('\\w+(?=@)', s)"
   ]
  },
  {
   "cell_type": "code",
   "execution_count": null,
   "id": "covered-tanzania",
   "metadata": {},
   "outputs": [],
   "source": [
    "re.findall('(?<=@)\\w+', s)"
   ]
  },
  {
   "cell_type": "code",
   "execution_count": null,
   "id": "altered-washington",
   "metadata": {},
   "outputs": [],
   "source": [
    "re.findall('(?<=@)[\\w\\.]+', s)"
   ]
  },
  {
   "cell_type": "code",
   "execution_count": null,
   "id": "upper-dressing",
   "metadata": {},
   "outputs": [],
   "source": [
    "import pandas as pd"
   ]
  },
  {
   "cell_type": "code",
   "execution_count": null,
   "id": "protected-listening",
   "metadata": {},
   "outputs": [],
   "source": [
    "s.split(r', ')"
   ]
  },
  {
   "cell_type": "code",
   "execution_count": null,
   "id": "imported-clone",
   "metadata": {},
   "outputs": [],
   "source": [
    "dt=pd.DataFrame(s.split(', '), columns=['info'])\n",
    "dt"
   ]
  },
  {
   "cell_type": "code",
   "execution_count": null,
   "id": "chinese-calvin",
   "metadata": {},
   "outputs": [],
   "source": [
    "dt['info'].apply(lambda v: re.findall('\\w+(?=@)', v))"
   ]
  },
  {
   "cell_type": "code",
   "execution_count": null,
   "id": "finite-density",
   "metadata": {},
   "outputs": [],
   "source": [
    "dt['hero']=dt['info'].apply(lambda v: re.findall('\\w+(?=@)', v)[0])\n",
    "dt"
   ]
  },
  {
   "cell_type": "code",
   "execution_count": null,
   "id": "imperial-psychiatry",
   "metadata": {},
   "outputs": [],
   "source": [
    "dt['info'].apply(lambda v: re.findall(r'(\\w+) (\\w+)', v)[0])"
   ]
  },
  {
   "cell_type": "code",
   "execution_count": null,
   "id": "industrial-brother",
   "metadata": {},
   "outputs": [],
   "source": [
    "dt['info'].str.extract(r'(\\w+) (\\w+) \\((.*)\\)')"
   ]
  },
  {
   "cell_type": "code",
   "execution_count": null,
   "id": "vertical-dialogue",
   "metadata": {},
   "outputs": [],
   "source": [
    "dt['info'].apply(lambda v: v.upper())"
   ]
  },
  {
   "cell_type": "code",
   "execution_count": null,
   "id": "faced-entrepreneur",
   "metadata": {},
   "outputs": [],
   "source": [
    "dt['info'].apply(lambda v: v.upper())"
   ]
  },
  {
   "cell_type": "code",
   "execution_count": null,
   "id": "continental-contrast",
   "metadata": {},
   "outputs": [],
   "source": [
    "dt['info'].map(str.upper)"
   ]
  },
  {
   "cell_type": "markdown",
   "id": "alive-husband",
   "metadata": {},
   "source": [
    "## findall"
   ]
  },
  {
   "cell_type": "code",
   "execution_count": null,
   "id": "korean-officer",
   "metadata": {},
   "outputs": [],
   "source": [
    "s='1. camera 670USD, 2. lens 1200USD, 3. case 39.95USD'"
   ]
  },
  {
   "cell_type": "code",
   "execution_count": null,
   "id": "worthy-stations",
   "metadata": {},
   "outputs": [],
   "source": [
    "re.findall('\\d+(?=USD)', s)"
   ]
  },
  {
   "cell_type": "code",
   "execution_count": null,
   "id": "stainless-fault",
   "metadata": {},
   "outputs": [],
   "source": [
    "re.findall('\\d+\\.?\\d+(?=USD)', s)"
   ]
  },
  {
   "cell_type": "markdown",
   "id": "heated-moses",
   "metadata": {},
   "source": [
    "## `#hashtag`"
   ]
  },
  {
   "cell_type": "code",
   "execution_count": null,
   "id": "industrial-diversity",
   "metadata": {},
   "outputs": [],
   "source": [
    "s='microsoft office #excel #powerpoint #word essential skills'\n",
    "re.findall('#\\w+', s)"
   ]
  },
  {
   "cell_type": "code",
   "execution_count": null,
   "id": "communist-corpus",
   "metadata": {},
   "outputs": [],
   "source": [
    "re.findall('(?<=#)\\w+', s)"
   ]
  },
  {
   "cell_type": "markdown",
   "id": "conservative-original",
   "metadata": {},
   "source": [
    "# match object"
   ]
  },
  {
   "cell_type": "markdown",
   "id": "manufactured-newton",
   "metadata": {},
   "source": [
    "The Match object has properties and methods used to retrieve information about the search, and the result:\n",
    "\n",
    "* span() returns a tuple containing the start-, and end positions of the match.\n",
    "* string returns the string passed into the function\n",
    "* group() returns the part of the string where there was a match"
   ]
  },
  {
   "cell_type": "code",
   "execution_count": null,
   "id": "alternative-receiver",
   "metadata": {},
   "outputs": [],
   "source": [
    "s='1. camera 670USD, 2. lens 1200USD, 3. case 39.95USD'\n",
    "\n",
    "m=re.search('lens', s)\n",
    "if m:\n",
    "    print(m.group())\n",
    "    print(m.span())\n",
    "else:\n",
    "    print('not found')"
   ]
  },
  {
   "cell_type": "code",
   "execution_count": null,
   "id": "settled-instrumentation",
   "metadata": {},
   "outputs": [],
   "source": [
    "m=re.search('\\d+\\.?\\d+', s)\n",
    "if m:\n",
    "    print(m.group())\n",
    "    print(m.span())\n",
    "else:\n",
    "    print('not found')"
   ]
  }
 ],
 "metadata": {
  "kernelspec": {
   "display_name": "Python 3",
   "language": "python",
   "name": "python3"
  },
  "language_info": {
   "codemirror_mode": {
    "name": "ipython",
    "version": 3
   },
   "file_extension": ".py",
   "mimetype": "text/x-python",
   "name": "python",
   "nbconvert_exporter": "python",
   "pygments_lexer": "ipython3",
   "version": "3.7.9"
  },
  "widgets": {
   "application/vnd.jupyter.widget-state+json": {
    "state": {},
    "version_major": 2,
    "version_minor": 0
   }
  }
 },
 "nbformat": 4,
 "nbformat_minor": 5
}
