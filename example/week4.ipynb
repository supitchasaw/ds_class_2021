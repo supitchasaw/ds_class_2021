{
 "cells": [
  {
   "cell_type": "code",
   "execution_count": 21,
   "metadata": {},
   "outputs": [],
   "source": [
    "import pandas as pd"
   ]
  },
  {
   "cell_type": "code",
   "execution_count": 22,
   "metadata": {},
   "outputs": [
    {
     "data": {
      "text/html": "<div>\n<style scoped>\n    .dataframe tbody tr th:only-of-type {\n        vertical-align: middle;\n    }\n\n    .dataframe tbody tr th {\n        vertical-align: top;\n    }\n\n    .dataframe thead th {\n        text-align: right;\n    }\n</style>\n<table border=\"1\" class=\"dataframe\">\n  <thead>\n    <tr style=\"text-align: right;\">\n      <th></th>\n      <th>id</th>\n      <th>name_th</th>\n      <th>name_en</th>\n      <th>gender</th>\n    </tr>\n  </thead>\n  <tbody>\n    <tr>\n      <th>0</th>\n      <td>5942910226</td>\n      <td>น.ส.วิชุฎา คำวิชิต                            ...</td>\n      <td>Miss Wichuda  Khamwichit                      ...</td>\n      <td>ญ</td>\n    </tr>\n    <tr>\n      <th>1</th>\n      <td>6042739826</td>\n      <td>นายชัชฤทธิ์ พลหลา                             ...</td>\n      <td>Mr. Chatcharit  Pholla                        ...</td>\n      <td>ช</td>\n    </tr>\n    <tr>\n      <th>2</th>\n      <td>6042841026</td>\n      <td>น.ส.พริมา มุณีกุล                             ...</td>\n      <td>Miss Parima  Muneekul                         ...</td>\n      <td>ญ</td>\n    </tr>\n    <tr>\n      <th>3</th>\n      <td>6142719326</td>\n      <td>น.ส.กันต์กนิษฐ์ ทองมโนกูร                     ...</td>\n      <td>Miss Kankanit  Thongmanogoon                  ...</td>\n      <td>ญ</td>\n    </tr>\n    <tr>\n      <th>4</th>\n      <td>6142746226</td>\n      <td>นายชยุต ตันติวุฒิปกรณ์                        ...</td>\n      <td>Mr. Chayut  Tantivuthipakon                   ...</td>\n      <td>ช</td>\n    </tr>\n    <tr>\n      <th>5</th>\n      <td>6142752026</td>\n      <td>น.ส.ชิตวรี หอมผล                              ...</td>\n      <td>Miss Chitwaree  Hompol                        ...</td>\n      <td>ญ</td>\n    </tr>\n    <tr>\n      <th>6</th>\n      <td>6142780526</td>\n      <td>นายดิษย์ พิสิษฐไกรยกร                         ...</td>\n      <td>Mr. Dis  Phisitkraiyakorn                     ...</td>\n      <td>ช</td>\n    </tr>\n    <tr>\n      <th>7</th>\n      <td>6142823926</td>\n      <td>น.ส.ปราณศิริ คำรอด                            ...</td>\n      <td>Miss Pransiri  Kamrod                         ...</td>\n      <td>ญ</td>\n    </tr>\n    <tr>\n      <th>8</th>\n      <td>6142829726</td>\n      <td>น.ส.ปัทมา ตั้งพูนผลวิวัฒน์                    ...</td>\n      <td>Miss Pattama  Tangpoonponwiwat                ...</td>\n      <td>ญ</td>\n    </tr>\n    <tr>\n      <th>9</th>\n      <td>6142830226</td>\n      <td>น.ส.ปาณิสรา จิรจิตการุณ                       ...</td>\n      <td>Miss Panissara  Jirajitkarun                  ...</td>\n      <td>ญ</td>\n    </tr>\n    <tr>\n      <th>10</th>\n      <td>6142841126</td>\n      <td>น.ส.พรรวี เกียรติศรีชาติ                      ...</td>\n      <td>Miss Pornravee  Kiatsrichart                  ...</td>\n      <td>ญ</td>\n    </tr>\n    <tr>\n      <th>11</th>\n      <td>6142846326</td>\n      <td>นายพัทธ์ สุทธิศรีปก                           ...</td>\n      <td>Mr. Pat  Suthisripok                          ...</td>\n      <td>ช</td>\n    </tr>\n    <tr>\n      <th>12</th>\n      <td>6142868126</td>\n      <td>น.ส.ภาพิมล พิมพา                              ...</td>\n      <td>Miss Papimol  Pimpa                           ...</td>\n      <td>ญ</td>\n    </tr>\n    <tr>\n      <th>13</th>\n      <td>6142896726</td>\n      <td>นายศุภกฤต ศุภภิญโญ                            ...</td>\n      <td>Mr. Suphakit  Suphapinyo                      ...</td>\n      <td>ช</td>\n    </tr>\n    <tr>\n      <th>14</th>\n      <td>6142909226</td>\n      <td>น.ส.สราญลักษณ์ กนกไพบูลย์                     ...</td>\n      <td>Miss Saranlak  Knokpaibool                    ...</td>\n      <td>ญ</td>\n    </tr>\n    <tr>\n      <th>15</th>\n      <td>6142910826</td>\n      <td>น.ส.สริตา พรมพันธ์ใจ                          ...</td>\n      <td>Miss Sarita  Prompuntjai                      ...</td>\n      <td>ญ</td>\n    </tr>\n    <tr>\n      <th>16</th>\n      <td>6142923026</td>\n      <td>น.ส.สุพิชชา สวัสดิ์อักษรชื่น                  ...</td>\n      <td>Miss Supitcha  Sawataksornchuen               ...</td>\n      <td>ญ</td>\n    </tr>\n    <tr>\n      <th>17</th>\n      <td>6142935526</td>\n      <td>นายอมรเทพ อยู่สบาย                            ...</td>\n      <td>Mr. Amornthep  Yoosabai                       ...</td>\n      <td>ช</td>\n    </tr>\n  </tbody>\n</table>\n</div>",
      "text/plain": "            id                                            name_th  \\\n0   5942910226  น.ส.วิชุฎา คำวิชิต                            ...   \n1   6042739826  นายชัชฤทธิ์ พลหลา                             ...   \n2   6042841026  น.ส.พริมา มุณีกุล                             ...   \n3   6142719326  น.ส.กันต์กนิษฐ์ ทองมโนกูร                     ...   \n4   6142746226  นายชยุต ตันติวุฒิปกรณ์                        ...   \n5   6142752026  น.ส.ชิตวรี หอมผล                              ...   \n6   6142780526  นายดิษย์ พิสิษฐไกรยกร                         ...   \n7   6142823926  น.ส.ปราณศิริ คำรอด                            ...   \n8   6142829726  น.ส.ปัทมา ตั้งพูนผลวิวัฒน์                    ...   \n9   6142830226  น.ส.ปาณิสรา จิรจิตการุณ                       ...   \n10  6142841126  น.ส.พรรวี เกียรติศรีชาติ                      ...   \n11  6142846326  นายพัทธ์ สุทธิศรีปก                           ...   \n12  6142868126  น.ส.ภาพิมล พิมพา                              ...   \n13  6142896726  นายศุภกฤต ศุภภิญโญ                            ...   \n14  6142909226  น.ส.สราญลักษณ์ กนกไพบูลย์                     ...   \n15  6142910826  น.ส.สริตา พรมพันธ์ใจ                          ...   \n16  6142923026  น.ส.สุพิชชา สวัสดิ์อักษรชื่น                  ...   \n17  6142935526  นายอมรเทพ อยู่สบาย                            ...   \n\n                                              name_en gender  \n0   Miss Wichuda  Khamwichit                      ...      ญ  \n1   Mr. Chatcharit  Pholla                        ...      ช  \n2   Miss Parima  Muneekul                         ...      ญ  \n3   Miss Kankanit  Thongmanogoon                  ...      ญ  \n4   Mr. Chayut  Tantivuthipakon                   ...      ช  \n5   Miss Chitwaree  Hompol                        ...      ญ  \n6   Mr. Dis  Phisitkraiyakorn                     ...      ช  \n7   Miss Pransiri  Kamrod                         ...      ญ  \n8   Miss Pattama  Tangpoonponwiwat                ...      ญ  \n9   Miss Panissara  Jirajitkarun                  ...      ญ  \n10  Miss Pornravee  Kiatsrichart                  ...      ญ  \n11  Mr. Pat  Suthisripok                          ...      ช  \n12  Miss Papimol  Pimpa                           ...      ญ  \n13  Mr. Suphakit  Suphapinyo                      ...      ช  \n14  Miss Saranlak  Knokpaibool                    ...      ญ  \n15  Miss Sarita  Prompuntjai                      ...      ญ  \n16  Miss Supitcha  Sawataksornchuen               ...      ญ  \n17  Mr. Amornthep  Yoosabai                       ...      ช  "
     },
     "execution_count": 22,
     "metadata": {},
     "output_type": "execute_result"
    }
   ],
   "source": [
    "df=pd.read_csv('https://github.com/prasertcbs/ds_class_2021/raw/week4/2602454S20202.txt', \n",
    "               names=['id', 'name_th', 'name_en', 'gender'], \n",
    "               usecols=[0, 1, 2, 3])\n",
    "df"
   ]
  },
  {
   "cell_type": "code",
   "execution_count": 23,
   "metadata": {},
   "outputs": [
    {
     "data": {
      "text/plain": "Index(['id', 'name_th', 'name_en', 'gender'], dtype='object')"
     },
     "execution_count": 23,
     "metadata": {},
     "output_type": "execute_result"
    }
   ],
   "source": [
    "df.columns"
   ]
  },
  {
   "cell_type": "code",
   "execution_count": 24,
   "metadata": {},
   "outputs": [
    {
     "data": {
      "text/plain": "0     น.ส.วิชุฎา คำวิชิต                            ...\n1     นายชัชฤทธิ์ พลหลา                             ...\n2     น.ส.พริมา มุณีกุล                             ...\n3     น.ส.กันต์กนิษฐ์ ทองมโนกูร                     ...\n4     นายชยุต ตันติวุฒิปกรณ์                        ...\n5     น.ส.ชิตวรี หอมผล                              ...\n6     นายดิษย์ พิสิษฐไกรยกร                         ...\n7     น.ส.ปราณศิริ คำรอด                            ...\n8     น.ส.ปัทมา ตั้งพูนผลวิวัฒน์                    ...\n9     น.ส.ปาณิสรา จิรจิตการุณ                       ...\n10    น.ส.พรรวี เกียรติศรีชาติ                      ...\n11    นายพัทธ์ สุทธิศรีปก                           ...\n12    น.ส.ภาพิมล พิมพา                              ...\n13    นายศุภกฤต ศุภภิญโญ                            ...\n14    น.ส.สราญลักษณ์ กนกไพบูลย์                     ...\n15    น.ส.สริตา พรมพันธ์ใจ                          ...\n16    น.ส.สุพิชชา สวัสดิ์อักษรชื่น                  ...\n17    นายอมรเทพ อยู่สบาย                            ...\nName: name_th, dtype: object"
     },
     "execution_count": 24,
     "metadata": {},
     "output_type": "execute_result"
    }
   ],
   "source": [
    "df['name_th'] # trailing spaces"
   ]
  },
  {
   "cell_type": "code",
   "execution_count": 25,
   "metadata": {},
   "outputs": [],
   "source": [
    "df['name_th']=df['name_th'].str.strip()\r\n",
    "df['name_en']=df['name_en'].str.strip()"
   ]
  },
  {
   "cell_type": "code",
   "execution_count": 26,
   "metadata": {},
   "outputs": [
    {
     "data": {
      "text/html": "<div>\n<style scoped>\n    .dataframe tbody tr th:only-of-type {\n        vertical-align: middle;\n    }\n\n    .dataframe tbody tr th {\n        vertical-align: top;\n    }\n\n    .dataframe thead th {\n        text-align: right;\n    }\n</style>\n<table border=\"1\" class=\"dataframe\">\n  <thead>\n    <tr style=\"text-align: right;\">\n      <th></th>\n      <th>0</th>\n      <th>1</th>\n      <th>2</th>\n    </tr>\n  </thead>\n  <tbody>\n    <tr>\n      <th>0</th>\n      <td>NaN</td>\n      <td>NaN</td>\n      <td>NaN</td>\n    </tr>\n    <tr>\n      <th>1</th>\n      <td>NaN</td>\n      <td>NaN</td>\n      <td>NaN</td>\n    </tr>\n    <tr>\n      <th>2</th>\n      <td>NaN</td>\n      <td>NaN</td>\n      <td>NaN</td>\n    </tr>\n    <tr>\n      <th>3</th>\n      <td>NaN</td>\n      <td>NaN</td>\n      <td>NaN</td>\n    </tr>\n    <tr>\n      <th>4</th>\n      <td>NaN</td>\n      <td>NaN</td>\n      <td>NaN</td>\n    </tr>\n    <tr>\n      <th>5</th>\n      <td>NaN</td>\n      <td>NaN</td>\n      <td>NaN</td>\n    </tr>\n    <tr>\n      <th>6</th>\n      <td>NaN</td>\n      <td>NaN</td>\n      <td>NaN</td>\n    </tr>\n    <tr>\n      <th>7</th>\n      <td>NaN</td>\n      <td>NaN</td>\n      <td>NaN</td>\n    </tr>\n    <tr>\n      <th>8</th>\n      <td>NaN</td>\n      <td>NaN</td>\n      <td>NaN</td>\n    </tr>\n    <tr>\n      <th>9</th>\n      <td>NaN</td>\n      <td>NaN</td>\n      <td>NaN</td>\n    </tr>\n    <tr>\n      <th>10</th>\n      <td>NaN</td>\n      <td>NaN</td>\n      <td>NaN</td>\n    </tr>\n    <tr>\n      <th>11</th>\n      <td>NaN</td>\n      <td>NaN</td>\n      <td>NaN</td>\n    </tr>\n    <tr>\n      <th>12</th>\n      <td>NaN</td>\n      <td>NaN</td>\n      <td>NaN</td>\n    </tr>\n    <tr>\n      <th>13</th>\n      <td>NaN</td>\n      <td>NaN</td>\n      <td>NaN</td>\n    </tr>\n    <tr>\n      <th>14</th>\n      <td>NaN</td>\n      <td>NaN</td>\n      <td>NaN</td>\n    </tr>\n    <tr>\n      <th>15</th>\n      <td>NaN</td>\n      <td>NaN</td>\n      <td>NaN</td>\n    </tr>\n    <tr>\n      <th>16</th>\n      <td>NaN</td>\n      <td>NaN</td>\n      <td>NaN</td>\n    </tr>\n    <tr>\n      <th>17</th>\n      <td>นาย</td>\n      <td>อมรเทพ</td>\n      <td>อย</td>\n    </tr>\n  </tbody>\n</table>\n</div>",
      "text/plain": "      0       1    2\n0   NaN     NaN  NaN\n1   NaN     NaN  NaN\n2   NaN     NaN  NaN\n3   NaN     NaN  NaN\n4   NaN     NaN  NaN\n5   NaN     NaN  NaN\n6   NaN     NaN  NaN\n7   NaN     NaN  NaN\n8   NaN     NaN  NaN\n9   NaN     NaN  NaN\n10  NaN     NaN  NaN\n11  NaN     NaN  NaN\n12  NaN     NaN  NaN\n13  NaN     NaN  NaN\n14  NaN     NaN  NaN\n15  NaN     NaN  NaN\n16  NaN     NaN  NaN\n17  นาย  อมรเทพ   อย"
     },
     "execution_count": 26,
     "metadata": {},
     "output_type": "execute_result"
    }
   ],
   "source": [
    "df['name_th'].str.extract(r'(น\\.ส\\.|นาย)(\\w+)\\s+(\\w+)') # working with Thai characters"
   ]
  },
  {
   "cell_type": "code",
   "execution_count": 27,
   "metadata": {},
   "outputs": [
    {
     "data": {
      "text/html": "<div>\n<style scoped>\n    .dataframe tbody tr th:only-of-type {\n        vertical-align: middle;\n    }\n\n    .dataframe tbody tr th {\n        vertical-align: top;\n    }\n\n    .dataframe thead th {\n        text-align: right;\n    }\n</style>\n<table border=\"1\" class=\"dataframe\">\n  <thead>\n    <tr style=\"text-align: right;\">\n      <th></th>\n      <th>title</th>\n      <th>fname</th>\n      <th>lname</th>\n    </tr>\n  </thead>\n  <tbody>\n    <tr>\n      <th>0</th>\n      <td>น.ส.</td>\n      <td>วิชุฎา</td>\n      <td>คำวิชิต</td>\n    </tr>\n    <tr>\n      <th>1</th>\n      <td>นาย</td>\n      <td>ชัชฤทธิ์</td>\n      <td>พลหลา</td>\n    </tr>\n    <tr>\n      <th>2</th>\n      <td>น.ส.</td>\n      <td>พริมา</td>\n      <td>มุณีกุล</td>\n    </tr>\n    <tr>\n      <th>3</th>\n      <td>น.ส.</td>\n      <td>กันต์กนิษฐ์</td>\n      <td>ทองมโนกูร</td>\n    </tr>\n    <tr>\n      <th>4</th>\n      <td>นาย</td>\n      <td>ชยุต</td>\n      <td>ตันติวุฒิปกรณ์</td>\n    </tr>\n    <tr>\n      <th>5</th>\n      <td>น.ส.</td>\n      <td>ชิตวรี</td>\n      <td>หอมผล</td>\n    </tr>\n    <tr>\n      <th>6</th>\n      <td>นาย</td>\n      <td>ดิษย์</td>\n      <td>พิสิษฐไกรยกร</td>\n    </tr>\n    <tr>\n      <th>7</th>\n      <td>น.ส.</td>\n      <td>ปราณศิริ</td>\n      <td>คำรอด</td>\n    </tr>\n    <tr>\n      <th>8</th>\n      <td>น.ส.</td>\n      <td>ปัทมา</td>\n      <td>ตั้งพูนผลวิวัฒน์</td>\n    </tr>\n    <tr>\n      <th>9</th>\n      <td>น.ส.</td>\n      <td>ปาณิสรา</td>\n      <td>จิรจิตการุณ</td>\n    </tr>\n    <tr>\n      <th>10</th>\n      <td>น.ส.</td>\n      <td>พรรวี</td>\n      <td>เกียรติศรีชาติ</td>\n    </tr>\n    <tr>\n      <th>11</th>\n      <td>นาย</td>\n      <td>พัทธ์</td>\n      <td>สุทธิศรีปก</td>\n    </tr>\n    <tr>\n      <th>12</th>\n      <td>น.ส.</td>\n      <td>ภาพิมล</td>\n      <td>พิมพา</td>\n    </tr>\n    <tr>\n      <th>13</th>\n      <td>นาย</td>\n      <td>ศุภกฤต</td>\n      <td>ศุภภิญโญ</td>\n    </tr>\n    <tr>\n      <th>14</th>\n      <td>น.ส.</td>\n      <td>สราญลักษณ์</td>\n      <td>กนกไพบูลย์</td>\n    </tr>\n    <tr>\n      <th>15</th>\n      <td>น.ส.</td>\n      <td>สริตา</td>\n      <td>พรมพันธ์ใจ</td>\n    </tr>\n    <tr>\n      <th>16</th>\n      <td>น.ส.</td>\n      <td>สุพิชชา</td>\n      <td>สวัสดิ์อักษรชื่น</td>\n    </tr>\n    <tr>\n      <th>17</th>\n      <td>นาย</td>\n      <td>อมรเทพ</td>\n      <td>อยู่สบาย</td>\n    </tr>\n  </tbody>\n</table>\n</div>",
      "text/plain": "   title        fname             lname\n0   น.ส.       วิชุฎา           คำวิชิต\n1    นาย     ชัชฤทธิ์             พลหลา\n2   น.ส.        พริมา           มุณีกุล\n3   น.ส.  กันต์กนิษฐ์         ทองมโนกูร\n4    นาย         ชยุต    ตันติวุฒิปกรณ์\n5   น.ส.       ชิตวรี             หอมผล\n6    นาย        ดิษย์      พิสิษฐไกรยกร\n7   น.ส.     ปราณศิริ             คำรอด\n8   น.ส.        ปัทมา  ตั้งพูนผลวิวัฒน์\n9   น.ส.      ปาณิสรา       จิรจิตการุณ\n10  น.ส.        พรรวี    เกียรติศรีชาติ\n11   นาย        พัทธ์        สุทธิศรีปก\n12  น.ส.       ภาพิมล             พิมพา\n13   นาย       ศุภกฤต          ศุภภิญโญ\n14  น.ส.   สราญลักษณ์        กนกไพบูลย์\n15  น.ส.        สริตา        พรมพันธ์ใจ\n16  น.ส.      สุพิชชา  สวัสดิ์อักษรชื่น\n17   นาย       อมรเทพ          อยู่สบาย"
     },
     "execution_count": 27,
     "metadata": {},
     "output_type": "execute_result"
    }
   ],
   "source": [
    "dt=df['name_th'].str.extract(r'(?P<title>น\\.ส\\.|นาย)(?P<fname>\\S+)\\s+(?P<lname>\\S+)') # \\S not \\s , \\D not \\d\r\n",
    "dt"
   ]
  },
  {
   "cell_type": "code",
   "execution_count": 28,
   "metadata": {},
   "outputs": [
    {
     "data": {
      "text/html": "<div>\n<style scoped>\n    .dataframe tbody tr th:only-of-type {\n        vertical-align: middle;\n    }\n\n    .dataframe tbody tr th {\n        vertical-align: top;\n    }\n\n    .dataframe thead th {\n        text-align: right;\n    }\n</style>\n<table border=\"1\" class=\"dataframe\">\n  <thead>\n    <tr style=\"text-align: right;\">\n      <th></th>\n      <th>0</th>\n      <th>1</th>\n      <th>2</th>\n    </tr>\n  </thead>\n  <tbody>\n    <tr>\n      <th>0</th>\n      <td>Miss</td>\n      <td>Wichuda</td>\n      <td>Khamwichit</td>\n    </tr>\n    <tr>\n      <th>1</th>\n      <td>Mr.</td>\n      <td>Chatcharit</td>\n      <td>Pholla</td>\n    </tr>\n    <tr>\n      <th>2</th>\n      <td>Miss</td>\n      <td>Parima</td>\n      <td>Muneekul</td>\n    </tr>\n    <tr>\n      <th>3</th>\n      <td>Miss</td>\n      <td>Kankanit</td>\n      <td>Thongmanogoon</td>\n    </tr>\n    <tr>\n      <th>4</th>\n      <td>Mr.</td>\n      <td>Chayut</td>\n      <td>Tantivuthipakon</td>\n    </tr>\n    <tr>\n      <th>5</th>\n      <td>Miss</td>\n      <td>Chitwaree</td>\n      <td>Hompol</td>\n    </tr>\n    <tr>\n      <th>6</th>\n      <td>Mr.</td>\n      <td>Dis</td>\n      <td>Phisitkraiyakorn</td>\n    </tr>\n    <tr>\n      <th>7</th>\n      <td>Miss</td>\n      <td>Pransiri</td>\n      <td>Kamrod</td>\n    </tr>\n    <tr>\n      <th>8</th>\n      <td>Miss</td>\n      <td>Pattama</td>\n      <td>Tangpoonponwiwat</td>\n    </tr>\n    <tr>\n      <th>9</th>\n      <td>Miss</td>\n      <td>Panissara</td>\n      <td>Jirajitkarun</td>\n    </tr>\n    <tr>\n      <th>10</th>\n      <td>Miss</td>\n      <td>Pornravee</td>\n      <td>Kiatsrichart</td>\n    </tr>\n    <tr>\n      <th>11</th>\n      <td>Mr.</td>\n      <td>Pat</td>\n      <td>Suthisripok</td>\n    </tr>\n    <tr>\n      <th>12</th>\n      <td>Miss</td>\n      <td>Papimol</td>\n      <td>Pimpa</td>\n    </tr>\n    <tr>\n      <th>13</th>\n      <td>Mr.</td>\n      <td>Suphakit</td>\n      <td>Suphapinyo</td>\n    </tr>\n    <tr>\n      <th>14</th>\n      <td>Miss</td>\n      <td>Saranlak</td>\n      <td>Knokpaibool</td>\n    </tr>\n    <tr>\n      <th>15</th>\n      <td>Miss</td>\n      <td>Sarita</td>\n      <td>Prompuntjai</td>\n    </tr>\n    <tr>\n      <th>16</th>\n      <td>Miss</td>\n      <td>Supitcha</td>\n      <td>Sawataksornchuen</td>\n    </tr>\n    <tr>\n      <th>17</th>\n      <td>Mr.</td>\n      <td>Amornthep</td>\n      <td>Yoosabai</td>\n    </tr>\n  </tbody>\n</table>\n</div>",
      "text/plain": "       0            1                 2\n0   Miss     Wichuda         Khamwichit\n1    Mr.  Chatcharit             Pholla\n2   Miss      Parima           Muneekul\n3   Miss    Kankanit      Thongmanogoon\n4    Mr.      Chayut    Tantivuthipakon\n5   Miss   Chitwaree             Hompol\n6    Mr.         Dis   Phisitkraiyakorn\n7   Miss    Pransiri             Kamrod\n8   Miss     Pattama   Tangpoonponwiwat\n9   Miss   Panissara       Jirajitkarun\n10  Miss   Pornravee       Kiatsrichart\n11   Mr.         Pat        Suthisripok\n12  Miss     Papimol              Pimpa\n13   Mr.    Suphakit         Suphapinyo\n14  Miss    Saranlak        Knokpaibool\n15  Miss      Sarita        Prompuntjai\n16  Miss    Supitcha   Sawataksornchuen\n17   Mr.   Amornthep           Yoosabai"
     },
     "execution_count": 28,
     "metadata": {},
     "output_type": "execute_result"
    }
   ],
   "source": [
    "df['name_en'].str.extract(r'(.+)\\s+(.+)\\s+(.+)')"
   ]
  },
  {
   "cell_type": "code",
   "execution_count": 29,
   "metadata": {},
   "outputs": [
    {
     "data": {
      "text/html": "<div>\n<style scoped>\n    .dataframe tbody tr th:only-of-type {\n        vertical-align: middle;\n    }\n\n    .dataframe tbody tr th {\n        vertical-align: top;\n    }\n\n    .dataframe thead th {\n        text-align: right;\n    }\n</style>\n<table border=\"1\" class=\"dataframe\">\n  <thead>\n    <tr style=\"text-align: right;\">\n      <th></th>\n      <th>title_en</th>\n      <th>fname_en</th>\n      <th>lname_en</th>\n    </tr>\n  </thead>\n  <tbody>\n    <tr>\n      <th>0</th>\n      <td>Miss</td>\n      <td>Wichuda</td>\n      <td>Khamwichit</td>\n    </tr>\n    <tr>\n      <th>1</th>\n      <td>Mr.</td>\n      <td>Chatcharit</td>\n      <td>Pholla</td>\n    </tr>\n    <tr>\n      <th>2</th>\n      <td>Miss</td>\n      <td>Parima</td>\n      <td>Muneekul</td>\n    </tr>\n    <tr>\n      <th>3</th>\n      <td>Miss</td>\n      <td>Kankanit</td>\n      <td>Thongmanogoon</td>\n    </tr>\n    <tr>\n      <th>4</th>\n      <td>Mr.</td>\n      <td>Chayut</td>\n      <td>Tantivuthipakon</td>\n    </tr>\n    <tr>\n      <th>5</th>\n      <td>Miss</td>\n      <td>Chitwaree</td>\n      <td>Hompol</td>\n    </tr>\n    <tr>\n      <th>6</th>\n      <td>Mr.</td>\n      <td>Dis</td>\n      <td>Phisitkraiyakorn</td>\n    </tr>\n    <tr>\n      <th>7</th>\n      <td>Miss</td>\n      <td>Pransiri</td>\n      <td>Kamrod</td>\n    </tr>\n    <tr>\n      <th>8</th>\n      <td>Miss</td>\n      <td>Pattama</td>\n      <td>Tangpoonponwiwat</td>\n    </tr>\n    <tr>\n      <th>9</th>\n      <td>Miss</td>\n      <td>Panissara</td>\n      <td>Jirajitkarun</td>\n    </tr>\n    <tr>\n      <th>10</th>\n      <td>Miss</td>\n      <td>Pornravee</td>\n      <td>Kiatsrichart</td>\n    </tr>\n    <tr>\n      <th>11</th>\n      <td>Mr.</td>\n      <td>Pat</td>\n      <td>Suthisripok</td>\n    </tr>\n    <tr>\n      <th>12</th>\n      <td>Miss</td>\n      <td>Papimol</td>\n      <td>Pimpa</td>\n    </tr>\n    <tr>\n      <th>13</th>\n      <td>Mr.</td>\n      <td>Suphakit</td>\n      <td>Suphapinyo</td>\n    </tr>\n    <tr>\n      <th>14</th>\n      <td>Miss</td>\n      <td>Saranlak</td>\n      <td>Knokpaibool</td>\n    </tr>\n    <tr>\n      <th>15</th>\n      <td>Miss</td>\n      <td>Sarita</td>\n      <td>Prompuntjai</td>\n    </tr>\n    <tr>\n      <th>16</th>\n      <td>Miss</td>\n      <td>Supitcha</td>\n      <td>Sawataksornchuen</td>\n    </tr>\n    <tr>\n      <th>17</th>\n      <td>Mr.</td>\n      <td>Amornthep</td>\n      <td>Yoosabai</td>\n    </tr>\n  </tbody>\n</table>\n</div>",
      "text/plain": "   title_en     fname_en          lname_en\n0      Miss     Wichuda         Khamwichit\n1       Mr.  Chatcharit             Pholla\n2      Miss      Parima           Muneekul\n3      Miss    Kankanit      Thongmanogoon\n4       Mr.      Chayut    Tantivuthipakon\n5      Miss   Chitwaree             Hompol\n6       Mr.         Dis   Phisitkraiyakorn\n7      Miss    Pransiri             Kamrod\n8      Miss     Pattama   Tangpoonponwiwat\n9      Miss   Panissara       Jirajitkarun\n10     Miss   Pornravee       Kiatsrichart\n11      Mr.         Pat        Suthisripok\n12     Miss     Papimol              Pimpa\n13      Mr.    Suphakit         Suphapinyo\n14     Miss    Saranlak        Knokpaibool\n15     Miss      Sarita        Prompuntjai\n16     Miss    Supitcha   Sawataksornchuen\n17      Mr.   Amornthep           Yoosabai"
     },
     "execution_count": 29,
     "metadata": {},
     "output_type": "execute_result"
    }
   ],
   "source": [
    "df['name_en'].str.extract(r'(?P<title_en>.+)\\s+(?P<fname_en>.+)\\s+(?P<lname_en>.+)') # \\w alphanumeric"
   ]
  },
  {
   "cell_type": "code",
   "execution_count": 30,
   "metadata": {},
   "outputs": [
    {
     "data": {
      "text/html": "<div>\n<style scoped>\n    .dataframe tbody tr th:only-of-type {\n        vertical-align: middle;\n    }\n\n    .dataframe tbody tr th {\n        vertical-align: top;\n    }\n\n    .dataframe thead th {\n        text-align: right;\n    }\n</style>\n<table border=\"1\" class=\"dataframe\">\n  <thead>\n    <tr style=\"text-align: right;\">\n      <th></th>\n      <th>0</th>\n      <th>1</th>\n      <th>2</th>\n    </tr>\n  </thead>\n  <tbody>\n    <tr>\n      <th>0</th>\n      <td>Miss</td>\n      <td>Wichuda</td>\n      <td>Khamwichit</td>\n    </tr>\n    <tr>\n      <th>1</th>\n      <td>NaN</td>\n      <td>NaN</td>\n      <td>NaN</td>\n    </tr>\n    <tr>\n      <th>2</th>\n      <td>Miss</td>\n      <td>Parima</td>\n      <td>Muneekul</td>\n    </tr>\n    <tr>\n      <th>3</th>\n      <td>Miss</td>\n      <td>Kankanit</td>\n      <td>Thongmanogoon</td>\n    </tr>\n    <tr>\n      <th>4</th>\n      <td>NaN</td>\n      <td>NaN</td>\n      <td>NaN</td>\n    </tr>\n    <tr>\n      <th>5</th>\n      <td>Miss</td>\n      <td>Chitwaree</td>\n      <td>Hompol</td>\n    </tr>\n    <tr>\n      <th>6</th>\n      <td>NaN</td>\n      <td>NaN</td>\n      <td>NaN</td>\n    </tr>\n    <tr>\n      <th>7</th>\n      <td>Miss</td>\n      <td>Pransiri</td>\n      <td>Kamrod</td>\n    </tr>\n    <tr>\n      <th>8</th>\n      <td>Miss</td>\n      <td>Pattama</td>\n      <td>Tangpoonponwiwat</td>\n    </tr>\n    <tr>\n      <th>9</th>\n      <td>Miss</td>\n      <td>Panissara</td>\n      <td>Jirajitkarun</td>\n    </tr>\n    <tr>\n      <th>10</th>\n      <td>Miss</td>\n      <td>Pornravee</td>\n      <td>Kiatsrichart</td>\n    </tr>\n    <tr>\n      <th>11</th>\n      <td>NaN</td>\n      <td>NaN</td>\n      <td>NaN</td>\n    </tr>\n    <tr>\n      <th>12</th>\n      <td>Miss</td>\n      <td>Papimol</td>\n      <td>Pimpa</td>\n    </tr>\n    <tr>\n      <th>13</th>\n      <td>NaN</td>\n      <td>NaN</td>\n      <td>NaN</td>\n    </tr>\n    <tr>\n      <th>14</th>\n      <td>Miss</td>\n      <td>Saranlak</td>\n      <td>Knokpaibool</td>\n    </tr>\n    <tr>\n      <th>15</th>\n      <td>Miss</td>\n      <td>Sarita</td>\n      <td>Prompuntjai</td>\n    </tr>\n    <tr>\n      <th>16</th>\n      <td>Miss</td>\n      <td>Supitcha</td>\n      <td>Sawataksornchuen</td>\n    </tr>\n    <tr>\n      <th>17</th>\n      <td>NaN</td>\n      <td>NaN</td>\n      <td>NaN</td>\n    </tr>\n  </tbody>\n</table>\n</div>",
      "text/plain": "       0          1                 2\n0   Miss    Wichuda        Khamwichit\n1    NaN        NaN               NaN\n2   Miss     Parima          Muneekul\n3   Miss   Kankanit     Thongmanogoon\n4    NaN        NaN               NaN\n5   Miss  Chitwaree            Hompol\n6    NaN        NaN               NaN\n7   Miss   Pransiri            Kamrod\n8   Miss    Pattama  Tangpoonponwiwat\n9   Miss  Panissara      Jirajitkarun\n10  Miss  Pornravee      Kiatsrichart\n11   NaN        NaN               NaN\n12  Miss    Papimol             Pimpa\n13   NaN        NaN               NaN\n14  Miss   Saranlak       Knokpaibool\n15  Miss     Sarita       Prompuntjai\n16  Miss   Supitcha  Sawataksornchuen\n17   NaN        NaN               NaN"
     },
     "execution_count": 30,
     "metadata": {},
     "output_type": "execute_result"
    }
   ],
   "source": [
    "df['name_en'].str.extract(r'(\\w+)\\s+(\\w+)\\s+(\\w+)') # \\w alphanumeric"
   ]
  },
  {
   "cell_type": "code",
   "execution_count": 31,
   "metadata": {},
   "outputs": [
    {
     "data": {
      "text/plain": "0            [Miss, Wichuda, Khamwichit]\n1              [Mr., Chatcharit, Pholla]\n2               [Miss, Parima, Muneekul]\n3        [Miss, Kankanit, Thongmanogoon]\n4         [Mr., Chayut, Tantivuthipakon]\n5              [Miss, Chitwaree, Hompol]\n6           [Mr., Dis, Phisitkraiyakorn]\n7               [Miss, Pransiri, Kamrod]\n8      [Miss, Pattama, Tangpoonponwiwat]\n9        [Miss, Panissara, Jirajitkarun]\n10       [Miss, Pornravee, Kiatsrichart]\n11               [Mr., Pat, Suthisripok]\n12                [Miss, Papimol, Pimpa]\n13           [Mr., Suphakit, Suphapinyo]\n14         [Miss, Saranlak, Knokpaibool]\n15           [Miss, Sarita, Prompuntjai]\n16    [Miss, Supitcha, Sawataksornchuen]\n17            [Mr., Amornthep, Yoosabai]\nName: name_en, dtype: object"
     },
     "execution_count": 31,
     "metadata": {},
     "output_type": "execute_result"
    }
   ],
   "source": [
    "p=df['name_en'].str.split(r'\\s+', expand=False)\n",
    "p # series"
   ]
  },
  {
   "cell_type": "code",
   "execution_count": 32,
   "metadata": {},
   "outputs": [
    {
     "data": {
      "text/html": "<div>\n<style scoped>\n    .dataframe tbody tr th:only-of-type {\n        vertical-align: middle;\n    }\n\n    .dataframe tbody tr th {\n        vertical-align: top;\n    }\n\n    .dataframe thead th {\n        text-align: right;\n    }\n</style>\n<table border=\"1\" class=\"dataframe\">\n  <thead>\n    <tr style=\"text-align: right;\">\n      <th></th>\n      <th>0</th>\n      <th>1</th>\n      <th>2</th>\n    </tr>\n  </thead>\n  <tbody>\n    <tr>\n      <th>0</th>\n      <td>Miss</td>\n      <td>Wichuda</td>\n      <td>Khamwichit</td>\n    </tr>\n    <tr>\n      <th>1</th>\n      <td>Mr.</td>\n      <td>Chatcharit</td>\n      <td>Pholla</td>\n    </tr>\n    <tr>\n      <th>2</th>\n      <td>Miss</td>\n      <td>Parima</td>\n      <td>Muneekul</td>\n    </tr>\n    <tr>\n      <th>3</th>\n      <td>Miss</td>\n      <td>Kankanit</td>\n      <td>Thongmanogoon</td>\n    </tr>\n    <tr>\n      <th>4</th>\n      <td>Mr.</td>\n      <td>Chayut</td>\n      <td>Tantivuthipakon</td>\n    </tr>\n    <tr>\n      <th>5</th>\n      <td>Miss</td>\n      <td>Chitwaree</td>\n      <td>Hompol</td>\n    </tr>\n    <tr>\n      <th>6</th>\n      <td>Mr.</td>\n      <td>Dis</td>\n      <td>Phisitkraiyakorn</td>\n    </tr>\n    <tr>\n      <th>7</th>\n      <td>Miss</td>\n      <td>Pransiri</td>\n      <td>Kamrod</td>\n    </tr>\n    <tr>\n      <th>8</th>\n      <td>Miss</td>\n      <td>Pattama</td>\n      <td>Tangpoonponwiwat</td>\n    </tr>\n    <tr>\n      <th>9</th>\n      <td>Miss</td>\n      <td>Panissara</td>\n      <td>Jirajitkarun</td>\n    </tr>\n    <tr>\n      <th>10</th>\n      <td>Miss</td>\n      <td>Pornravee</td>\n      <td>Kiatsrichart</td>\n    </tr>\n    <tr>\n      <th>11</th>\n      <td>Mr.</td>\n      <td>Pat</td>\n      <td>Suthisripok</td>\n    </tr>\n    <tr>\n      <th>12</th>\n      <td>Miss</td>\n      <td>Papimol</td>\n      <td>Pimpa</td>\n    </tr>\n    <tr>\n      <th>13</th>\n      <td>Mr.</td>\n      <td>Suphakit</td>\n      <td>Suphapinyo</td>\n    </tr>\n    <tr>\n      <th>14</th>\n      <td>Miss</td>\n      <td>Saranlak</td>\n      <td>Knokpaibool</td>\n    </tr>\n    <tr>\n      <th>15</th>\n      <td>Miss</td>\n      <td>Sarita</td>\n      <td>Prompuntjai</td>\n    </tr>\n    <tr>\n      <th>16</th>\n      <td>Miss</td>\n      <td>Supitcha</td>\n      <td>Sawataksornchuen</td>\n    </tr>\n    <tr>\n      <th>17</th>\n      <td>Mr.</td>\n      <td>Amornthep</td>\n      <td>Yoosabai</td>\n    </tr>\n  </tbody>\n</table>\n</div>",
      "text/plain": "       0           1                 2\n0   Miss     Wichuda        Khamwichit\n1    Mr.  Chatcharit            Pholla\n2   Miss      Parima          Muneekul\n3   Miss    Kankanit     Thongmanogoon\n4    Mr.      Chayut   Tantivuthipakon\n5   Miss   Chitwaree            Hompol\n6    Mr.         Dis  Phisitkraiyakorn\n7   Miss    Pransiri            Kamrod\n8   Miss     Pattama  Tangpoonponwiwat\n9   Miss   Panissara      Jirajitkarun\n10  Miss   Pornravee      Kiatsrichart\n11   Mr.         Pat       Suthisripok\n12  Miss     Papimol             Pimpa\n13   Mr.    Suphakit        Suphapinyo\n14  Miss    Saranlak       Knokpaibool\n15  Miss      Sarita       Prompuntjai\n16  Miss    Supitcha  Sawataksornchuen\n17   Mr.   Amornthep          Yoosabai"
     },
     "execution_count": 32,
     "metadata": {},
     "output_type": "execute_result"
    }
   ],
   "source": [
    "de=df['name_en'].str.strip().str.split(r'\\s+', expand=True)\n",
    "de "
   ]
  },
  {
   "cell_type": "code",
   "execution_count": 33,
   "metadata": {},
   "outputs": [
    {
     "data": {
      "text/html": "<div>\n<style scoped>\n    .dataframe tbody tr th:only-of-type {\n        vertical-align: middle;\n    }\n\n    .dataframe tbody tr th {\n        vertical-align: top;\n    }\n\n    .dataframe thead th {\n        text-align: right;\n    }\n</style>\n<table border=\"1\" class=\"dataframe\">\n  <thead>\n    <tr style=\"text-align: right;\">\n      <th></th>\n      <th>title_en</th>\n      <th>fname_en</th>\n      <th>lname_en</th>\n    </tr>\n  </thead>\n  <tbody>\n    <tr>\n      <th>0</th>\n      <td>Miss</td>\n      <td>Wichuda</td>\n      <td>Khamwichit</td>\n    </tr>\n    <tr>\n      <th>1</th>\n      <td>Mr.</td>\n      <td>Chatcharit</td>\n      <td>Pholla</td>\n    </tr>\n    <tr>\n      <th>2</th>\n      <td>Miss</td>\n      <td>Parima</td>\n      <td>Muneekul</td>\n    </tr>\n    <tr>\n      <th>3</th>\n      <td>Miss</td>\n      <td>Kankanit</td>\n      <td>Thongmanogoon</td>\n    </tr>\n    <tr>\n      <th>4</th>\n      <td>Mr.</td>\n      <td>Chayut</td>\n      <td>Tantivuthipakon</td>\n    </tr>\n    <tr>\n      <th>5</th>\n      <td>Miss</td>\n      <td>Chitwaree</td>\n      <td>Hompol</td>\n    </tr>\n    <tr>\n      <th>6</th>\n      <td>Mr.</td>\n      <td>Dis</td>\n      <td>Phisitkraiyakorn</td>\n    </tr>\n    <tr>\n      <th>7</th>\n      <td>Miss</td>\n      <td>Pransiri</td>\n      <td>Kamrod</td>\n    </tr>\n    <tr>\n      <th>8</th>\n      <td>Miss</td>\n      <td>Pattama</td>\n      <td>Tangpoonponwiwat</td>\n    </tr>\n    <tr>\n      <th>9</th>\n      <td>Miss</td>\n      <td>Panissara</td>\n      <td>Jirajitkarun</td>\n    </tr>\n    <tr>\n      <th>10</th>\n      <td>Miss</td>\n      <td>Pornravee</td>\n      <td>Kiatsrichart</td>\n    </tr>\n    <tr>\n      <th>11</th>\n      <td>Mr.</td>\n      <td>Pat</td>\n      <td>Suthisripok</td>\n    </tr>\n    <tr>\n      <th>12</th>\n      <td>Miss</td>\n      <td>Papimol</td>\n      <td>Pimpa</td>\n    </tr>\n    <tr>\n      <th>13</th>\n      <td>Mr.</td>\n      <td>Suphakit</td>\n      <td>Suphapinyo</td>\n    </tr>\n    <tr>\n      <th>14</th>\n      <td>Miss</td>\n      <td>Saranlak</td>\n      <td>Knokpaibool</td>\n    </tr>\n    <tr>\n      <th>15</th>\n      <td>Miss</td>\n      <td>Sarita</td>\n      <td>Prompuntjai</td>\n    </tr>\n    <tr>\n      <th>16</th>\n      <td>Miss</td>\n      <td>Supitcha</td>\n      <td>Sawataksornchuen</td>\n    </tr>\n    <tr>\n      <th>17</th>\n      <td>Mr.</td>\n      <td>Amornthep</td>\n      <td>Yoosabai</td>\n    </tr>\n  </tbody>\n</table>\n</div>",
      "text/plain": "   title_en    fname_en          lname_en\n0      Miss     Wichuda        Khamwichit\n1       Mr.  Chatcharit            Pholla\n2      Miss      Parima          Muneekul\n3      Miss    Kankanit     Thongmanogoon\n4       Mr.      Chayut   Tantivuthipakon\n5      Miss   Chitwaree            Hompol\n6       Mr.         Dis  Phisitkraiyakorn\n7      Miss    Pransiri            Kamrod\n8      Miss     Pattama  Tangpoonponwiwat\n9      Miss   Panissara      Jirajitkarun\n10     Miss   Pornravee      Kiatsrichart\n11      Mr.         Pat       Suthisripok\n12     Miss     Papimol             Pimpa\n13      Mr.    Suphakit        Suphapinyo\n14     Miss    Saranlak       Knokpaibool\n15     Miss      Sarita       Prompuntjai\n16     Miss    Supitcha  Sawataksornchuen\n17      Mr.   Amornthep          Yoosabai"
     },
     "execution_count": 33,
     "metadata": {},
     "output_type": "execute_result"
    }
   ],
   "source": [
    "de.columns=['title_en', 'fname_en', 'lname_en']\n",
    "de"
   ]
  },
  {
   "cell_type": "code",
   "execution_count": 34,
   "metadata": {},
   "outputs": [
    {
     "data": {
      "text/plain": "Index(['id', 'name_th', 'name_en', 'gender'], dtype='object')"
     },
     "execution_count": 34,
     "metadata": {},
     "output_type": "execute_result"
    }
   ],
   "source": [
    "df.columns"
   ]
  },
  {
   "cell_type": "code",
   "execution_count": 35,
   "metadata": {},
   "outputs": [
    {
     "data": {
      "text/html": "<div>\n<style scoped>\n    .dataframe tbody tr th:only-of-type {\n        vertical-align: middle;\n    }\n\n    .dataframe tbody tr th {\n        vertical-align: top;\n    }\n\n    .dataframe thead th {\n        text-align: right;\n    }\n</style>\n<table border=\"1\" class=\"dataframe\">\n  <thead>\n    <tr style=\"text-align: right;\">\n      <th></th>\n      <th>id</th>\n      <th>gender</th>\n      <th>title</th>\n      <th>fname</th>\n      <th>lname</th>\n      <th>title_en</th>\n      <th>fname_en</th>\n      <th>lname_en</th>\n    </tr>\n  </thead>\n  <tbody>\n    <tr>\n      <th>0</th>\n      <td>5942910226</td>\n      <td>ญ</td>\n      <td>น.ส.</td>\n      <td>วิชุฎา</td>\n      <td>คำวิชิต</td>\n      <td>Miss</td>\n      <td>Wichuda</td>\n      <td>Khamwichit</td>\n    </tr>\n    <tr>\n      <th>1</th>\n      <td>6042739826</td>\n      <td>ช</td>\n      <td>นาย</td>\n      <td>ชัชฤทธิ์</td>\n      <td>พลหลา</td>\n      <td>Mr.</td>\n      <td>Chatcharit</td>\n      <td>Pholla</td>\n    </tr>\n    <tr>\n      <th>2</th>\n      <td>6042841026</td>\n      <td>ญ</td>\n      <td>น.ส.</td>\n      <td>พริมา</td>\n      <td>มุณีกุล</td>\n      <td>Miss</td>\n      <td>Parima</td>\n      <td>Muneekul</td>\n    </tr>\n    <tr>\n      <th>3</th>\n      <td>6142719326</td>\n      <td>ญ</td>\n      <td>น.ส.</td>\n      <td>กันต์กนิษฐ์</td>\n      <td>ทองมโนกูร</td>\n      <td>Miss</td>\n      <td>Kankanit</td>\n      <td>Thongmanogoon</td>\n    </tr>\n    <tr>\n      <th>4</th>\n      <td>6142746226</td>\n      <td>ช</td>\n      <td>นาย</td>\n      <td>ชยุต</td>\n      <td>ตันติวุฒิปกรณ์</td>\n      <td>Mr.</td>\n      <td>Chayut</td>\n      <td>Tantivuthipakon</td>\n    </tr>\n    <tr>\n      <th>5</th>\n      <td>6142752026</td>\n      <td>ญ</td>\n      <td>น.ส.</td>\n      <td>ชิตวรี</td>\n      <td>หอมผล</td>\n      <td>Miss</td>\n      <td>Chitwaree</td>\n      <td>Hompol</td>\n    </tr>\n    <tr>\n      <th>6</th>\n      <td>6142780526</td>\n      <td>ช</td>\n      <td>นาย</td>\n      <td>ดิษย์</td>\n      <td>พิสิษฐไกรยกร</td>\n      <td>Mr.</td>\n      <td>Dis</td>\n      <td>Phisitkraiyakorn</td>\n    </tr>\n    <tr>\n      <th>7</th>\n      <td>6142823926</td>\n      <td>ญ</td>\n      <td>น.ส.</td>\n      <td>ปราณศิริ</td>\n      <td>คำรอด</td>\n      <td>Miss</td>\n      <td>Pransiri</td>\n      <td>Kamrod</td>\n    </tr>\n    <tr>\n      <th>8</th>\n      <td>6142829726</td>\n      <td>ญ</td>\n      <td>น.ส.</td>\n      <td>ปัทมา</td>\n      <td>ตั้งพูนผลวิวัฒน์</td>\n      <td>Miss</td>\n      <td>Pattama</td>\n      <td>Tangpoonponwiwat</td>\n    </tr>\n    <tr>\n      <th>9</th>\n      <td>6142830226</td>\n      <td>ญ</td>\n      <td>น.ส.</td>\n      <td>ปาณิสรา</td>\n      <td>จิรจิตการุณ</td>\n      <td>Miss</td>\n      <td>Panissara</td>\n      <td>Jirajitkarun</td>\n    </tr>\n    <tr>\n      <th>10</th>\n      <td>6142841126</td>\n      <td>ญ</td>\n      <td>น.ส.</td>\n      <td>พรรวี</td>\n      <td>เกียรติศรีชาติ</td>\n      <td>Miss</td>\n      <td>Pornravee</td>\n      <td>Kiatsrichart</td>\n    </tr>\n    <tr>\n      <th>11</th>\n      <td>6142846326</td>\n      <td>ช</td>\n      <td>นาย</td>\n      <td>พัทธ์</td>\n      <td>สุทธิศรีปก</td>\n      <td>Mr.</td>\n      <td>Pat</td>\n      <td>Suthisripok</td>\n    </tr>\n    <tr>\n      <th>12</th>\n      <td>6142868126</td>\n      <td>ญ</td>\n      <td>น.ส.</td>\n      <td>ภาพิมล</td>\n      <td>พิมพา</td>\n      <td>Miss</td>\n      <td>Papimol</td>\n      <td>Pimpa</td>\n    </tr>\n    <tr>\n      <th>13</th>\n      <td>6142896726</td>\n      <td>ช</td>\n      <td>นาย</td>\n      <td>ศุภกฤต</td>\n      <td>ศุภภิญโญ</td>\n      <td>Mr.</td>\n      <td>Suphakit</td>\n      <td>Suphapinyo</td>\n    </tr>\n    <tr>\n      <th>14</th>\n      <td>6142909226</td>\n      <td>ญ</td>\n      <td>น.ส.</td>\n      <td>สราญลักษณ์</td>\n      <td>กนกไพบูลย์</td>\n      <td>Miss</td>\n      <td>Saranlak</td>\n      <td>Knokpaibool</td>\n    </tr>\n    <tr>\n      <th>15</th>\n      <td>6142910826</td>\n      <td>ญ</td>\n      <td>น.ส.</td>\n      <td>สริตา</td>\n      <td>พรมพันธ์ใจ</td>\n      <td>Miss</td>\n      <td>Sarita</td>\n      <td>Prompuntjai</td>\n    </tr>\n    <tr>\n      <th>16</th>\n      <td>6142923026</td>\n      <td>ญ</td>\n      <td>น.ส.</td>\n      <td>สุพิชชา</td>\n      <td>สวัสดิ์อักษรชื่น</td>\n      <td>Miss</td>\n      <td>Supitcha</td>\n      <td>Sawataksornchuen</td>\n    </tr>\n    <tr>\n      <th>17</th>\n      <td>6142935526</td>\n      <td>ช</td>\n      <td>นาย</td>\n      <td>อมรเทพ</td>\n      <td>อยู่สบาย</td>\n      <td>Mr.</td>\n      <td>Amornthep</td>\n      <td>Yoosabai</td>\n    </tr>\n  </tbody>\n</table>\n</div>",
      "text/plain": "            id gender title        fname             lname title_en  \\\n0   5942910226      ญ  น.ส.       วิชุฎา           คำวิชิต     Miss   \n1   6042739826      ช   นาย     ชัชฤทธิ์             พลหลา      Mr.   \n2   6042841026      ญ  น.ส.        พริมา           มุณีกุล     Miss   \n3   6142719326      ญ  น.ส.  กันต์กนิษฐ์         ทองมโนกูร     Miss   \n4   6142746226      ช   นาย         ชยุต    ตันติวุฒิปกรณ์      Mr.   \n5   6142752026      ญ  น.ส.       ชิตวรี             หอมผล     Miss   \n6   6142780526      ช   นาย        ดิษย์      พิสิษฐไกรยกร      Mr.   \n7   6142823926      ญ  น.ส.     ปราณศิริ             คำรอด     Miss   \n8   6142829726      ญ  น.ส.        ปัทมา  ตั้งพูนผลวิวัฒน์     Miss   \n9   6142830226      ญ  น.ส.      ปาณิสรา       จิรจิตการุณ     Miss   \n10  6142841126      ญ  น.ส.        พรรวี    เกียรติศรีชาติ     Miss   \n11  6142846326      ช   นาย        พัทธ์        สุทธิศรีปก      Mr.   \n12  6142868126      ญ  น.ส.       ภาพิมล             พิมพา     Miss   \n13  6142896726      ช   นาย       ศุภกฤต          ศุภภิญโญ      Mr.   \n14  6142909226      ญ  น.ส.   สราญลักษณ์        กนกไพบูลย์     Miss   \n15  6142910826      ญ  น.ส.        สริตา        พรมพันธ์ใจ     Miss   \n16  6142923026      ญ  น.ส.      สุพิชชา  สวัสดิ์อักษรชื่น     Miss   \n17  6142935526      ช   นาย       อมรเทพ          อยู่สบาย      Mr.   \n\n      fname_en          lname_en  \n0      Wichuda        Khamwichit  \n1   Chatcharit            Pholla  \n2       Parima          Muneekul  \n3     Kankanit     Thongmanogoon  \n4       Chayut   Tantivuthipakon  \n5    Chitwaree            Hompol  \n6          Dis  Phisitkraiyakorn  \n7     Pransiri            Kamrod  \n8      Pattama  Tangpoonponwiwat  \n9    Panissara      Jirajitkarun  \n10   Pornravee      Kiatsrichart  \n11         Pat       Suthisripok  \n12     Papimol             Pimpa  \n13    Suphakit        Suphapinyo  \n14    Saranlak       Knokpaibool  \n15      Sarita       Prompuntjai  \n16    Supitcha  Sawataksornchuen  \n17   Amornthep          Yoosabai  "
     },
     "execution_count": 35,
     "metadata": {},
     "output_type": "execute_result"
    }
   ],
   "source": [
    "pd.concat([df[['id', 'gender']], dt, de], axis=1)"
   ]
  },
  {
   "cell_type": "code",
   "execution_count": null,
   "metadata": {},
   "outputs": [],
   "source": []
  }
 ],
 "metadata": {
  "kernelspec": {
   "display_name": "Python 3",
   "language": "python",
   "name": "python3"
  },
  "language_info": {
   "codemirror_mode": {
    "name": "ipython",
    "version": 3
   },
   "file_extension": ".py",
   "mimetype": "text/x-python",
   "name": "python",
   "nbconvert_exporter": "python",
   "pygments_lexer": "ipython3",
   "version": "3.7.9"
  },
  "widgets": {
   "application/vnd.jupyter.widget-state+json": {
    "state": {},
    "version_major": 2,
    "version_minor": 0
   }
  }
 },
 "nbformat": 4,
 "nbformat_minor": 5
}