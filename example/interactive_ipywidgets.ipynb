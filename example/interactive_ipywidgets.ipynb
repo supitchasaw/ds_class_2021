{
 "cells": [
  {
   "cell_type": "markdown",
   "metadata": {},
   "source": [
    "# interactive ipywidgets\n",
    "* doc: https://ipywidgets.readthedocs.io/en/stable/examples/Widget%20List.html"
   ]
  },
  {
   "cell_type": "markdown",
   "metadata": {},
   "source": [
    "---\n",
    "* author:  [Prasert Kanawattanachai](prasert.k@chula.ac.th)\n",
    "* YouTube: https://www.youtube.com/prasertcbs\n",
    "* github: https://github.com/prasertcbs/\n",
    "---"
   ]
  },
  {
   "cell_type": "code",
   "execution_count": 1,
   "metadata": {},
   "outputs": [],
   "source": [
    "import sys\n",
    "import pandas as pd\n",
    "import seaborn as sns\n",
    "import matplotlib.pyplot as plt\n",
    "import numpy as np\n",
    "\n",
    "from pandas.plotting import register_matplotlib_converters\n",
    "register_matplotlib_converters()\n",
    "\n",
    "import ipywidgets as widgets\n",
    "from ipywidgets import interact\n",
    "\n",
    "%matplotlib inline\n",
    "%config InlineBackend.figure_format='retina'"
   ]
  },
  {
   "cell_type": "code",
   "execution_count": 2,
   "metadata": {},
   "outputs": [],
   "source": [
    "pd.set_option('display.max_rows', 20)"
   ]
  },
  {
   "cell_type": "code",
   "execution_count": 3,
   "metadata": {},
   "outputs": [],
   "source": [
    "import warnings\n",
    "warnings.filterwarnings('ignore')"
   ]
  },
  {
   "cell_type": "code",
   "execution_count": 4,
   "metadata": {
    "colab": {
     "base_uri": "https://localhost:8080/",
     "height": 64
    },
    "colab_type": "code",
    "id": "fdr0pYIf7P-_",
    "outputId": "c919deae-c99b-44b0-8924-4d2355ca0b63"
   },
   "outputs": [
    {
     "name": "stdout",
     "output_type": "stream",
     "text": [
      "Python version:  3.7.9 (default, Aug 31 2020, 17:10:11) [MSC v.1916 64 bit (AMD64)]\n",
      "pandas   version: 1.2.1\n",
      "seaborn  version: 0.11.1\n"
     ]
    }
   ],
   "source": [
    "print(f'Python version:  {sys.version}')\n",
    "print(f'pandas   version: {pd.__version__}')\n",
    "print(f'seaborn  version: {sns.__version__}')"
   ]
  },
  {
   "cell_type": "code",
   "execution_count": 5,
   "metadata": {},
   "outputs": [
    {
     "data": {
      "text/plain": [
       "Timestamp('2021-02-17 11:15:31.716815')"
      ]
     },
     "execution_count": 5,
     "metadata": {},
     "output_type": "execute_result"
    }
   ],
   "source": [
    "pd.Timestamp.now()"
   ]
  },
  {
   "cell_type": "code",
   "execution_count": 6,
   "metadata": {},
   "outputs": [
    {
     "data": {
      "text/html": [
       "<div>\n",
       "<style scoped>\n",
       "    .dataframe tbody tr th:only-of-type {\n",
       "        vertical-align: middle;\n",
       "    }\n",
       "\n",
       "    .dataframe tbody tr th {\n",
       "        vertical-align: top;\n",
       "    }\n",
       "\n",
       "    .dataframe thead th {\n",
       "        text-align: right;\n",
       "    }\n",
       "</style>\n",
       "<table border=\"1\" class=\"dataframe\">\n",
       "  <thead>\n",
       "    <tr style=\"text-align: right;\">\n",
       "      <th></th>\n",
       "      <th>Category</th>\n",
       "      <th>Item</th>\n",
       "      <th>Serving Size</th>\n",
       "      <th>Calories</th>\n",
       "      <th>Calories from Fat</th>\n",
       "      <th>Total Fat</th>\n",
       "      <th>Cholesterol</th>\n",
       "      <th>Sodium</th>\n",
       "      <th>Sugars</th>\n",
       "      <th>Protein</th>\n",
       "    </tr>\n",
       "  </thead>\n",
       "  <tbody>\n",
       "    <tr>\n",
       "      <th>0</th>\n",
       "      <td>Breakfast</td>\n",
       "      <td>Egg McMuffin</td>\n",
       "      <td>4.8 oz (136 g)</td>\n",
       "      <td>300</td>\n",
       "      <td>120</td>\n",
       "      <td>13.0</td>\n",
       "      <td>260</td>\n",
       "      <td>750</td>\n",
       "      <td>3</td>\n",
       "      <td>17</td>\n",
       "    </tr>\n",
       "    <tr>\n",
       "      <th>1</th>\n",
       "      <td>Breakfast</td>\n",
       "      <td>Egg White Delight</td>\n",
       "      <td>4.8 oz (135 g)</td>\n",
       "      <td>250</td>\n",
       "      <td>70</td>\n",
       "      <td>8.0</td>\n",
       "      <td>25</td>\n",
       "      <td>770</td>\n",
       "      <td>3</td>\n",
       "      <td>18</td>\n",
       "    </tr>\n",
       "    <tr>\n",
       "      <th>2</th>\n",
       "      <td>Breakfast</td>\n",
       "      <td>Sausage McMuffin</td>\n",
       "      <td>3.9 oz (111 g)</td>\n",
       "      <td>370</td>\n",
       "      <td>200</td>\n",
       "      <td>23.0</td>\n",
       "      <td>45</td>\n",
       "      <td>780</td>\n",
       "      <td>2</td>\n",
       "      <td>14</td>\n",
       "    </tr>\n",
       "    <tr>\n",
       "      <th>3</th>\n",
       "      <td>Breakfast</td>\n",
       "      <td>Sausage McMuffin with Egg</td>\n",
       "      <td>5.7 oz (161 g)</td>\n",
       "      <td>450</td>\n",
       "      <td>250</td>\n",
       "      <td>28.0</td>\n",
       "      <td>285</td>\n",
       "      <td>860</td>\n",
       "      <td>2</td>\n",
       "      <td>21</td>\n",
       "    </tr>\n",
       "    <tr>\n",
       "      <th>4</th>\n",
       "      <td>Breakfast</td>\n",
       "      <td>Sausage McMuffin with Egg Whites</td>\n",
       "      <td>5.7 oz (161 g)</td>\n",
       "      <td>400</td>\n",
       "      <td>210</td>\n",
       "      <td>23.0</td>\n",
       "      <td>50</td>\n",
       "      <td>880</td>\n",
       "      <td>2</td>\n",
       "      <td>21</td>\n",
       "    </tr>\n",
       "    <tr>\n",
       "      <th>...</th>\n",
       "      <td>...</td>\n",
       "      <td>...</td>\n",
       "      <td>...</td>\n",
       "      <td>...</td>\n",
       "      <td>...</td>\n",
       "      <td>...</td>\n",
       "      <td>...</td>\n",
       "      <td>...</td>\n",
       "      <td>...</td>\n",
       "      <td>...</td>\n",
       "    </tr>\n",
       "    <tr>\n",
       "      <th>255</th>\n",
       "      <td>Smoothies &amp; Shakes</td>\n",
       "      <td>McFlurry with Oreo Cookies (Small)</td>\n",
       "      <td>10.1 oz (285 g)</td>\n",
       "      <td>510</td>\n",
       "      <td>150</td>\n",
       "      <td>17.0</td>\n",
       "      <td>45</td>\n",
       "      <td>280</td>\n",
       "      <td>64</td>\n",
       "      <td>12</td>\n",
       "    </tr>\n",
       "    <tr>\n",
       "      <th>256</th>\n",
       "      <td>Smoothies &amp; Shakes</td>\n",
       "      <td>McFlurry with Oreo Cookies (Medium)</td>\n",
       "      <td>13.4 oz (381 g)</td>\n",
       "      <td>690</td>\n",
       "      <td>200</td>\n",
       "      <td>23.0</td>\n",
       "      <td>55</td>\n",
       "      <td>380</td>\n",
       "      <td>85</td>\n",
       "      <td>15</td>\n",
       "    </tr>\n",
       "    <tr>\n",
       "      <th>257</th>\n",
       "      <td>Smoothies &amp; Shakes</td>\n",
       "      <td>McFlurry with Oreo Cookies (Snack)</td>\n",
       "      <td>6.7 oz (190 g)</td>\n",
       "      <td>340</td>\n",
       "      <td>100</td>\n",
       "      <td>11.0</td>\n",
       "      <td>30</td>\n",
       "      <td>190</td>\n",
       "      <td>43</td>\n",
       "      <td>8</td>\n",
       "    </tr>\n",
       "    <tr>\n",
       "      <th>258</th>\n",
       "      <td>Smoothies &amp; Shakes</td>\n",
       "      <td>McFlurry with Reese's Peanut Butter Cups (Medium)</td>\n",
       "      <td>14.2 oz (403 g)</td>\n",
       "      <td>810</td>\n",
       "      <td>290</td>\n",
       "      <td>32.0</td>\n",
       "      <td>60</td>\n",
       "      <td>400</td>\n",
       "      <td>103</td>\n",
       "      <td>21</td>\n",
       "    </tr>\n",
       "    <tr>\n",
       "      <th>259</th>\n",
       "      <td>Smoothies &amp; Shakes</td>\n",
       "      <td>McFlurry with Reese's Peanut Butter Cups (Snack)</td>\n",
       "      <td>7.1 oz (202 g)</td>\n",
       "      <td>410</td>\n",
       "      <td>150</td>\n",
       "      <td>16.0</td>\n",
       "      <td>30</td>\n",
       "      <td>200</td>\n",
       "      <td>51</td>\n",
       "      <td>10</td>\n",
       "    </tr>\n",
       "  </tbody>\n",
       "</table>\n",
       "<p>260 rows × 10 columns</p>\n",
       "</div>"
      ],
      "text/plain": [
       "               Category                                               Item  \\\n",
       "0             Breakfast                                       Egg McMuffin   \n",
       "1             Breakfast                                  Egg White Delight   \n",
       "2             Breakfast                                   Sausage McMuffin   \n",
       "3             Breakfast                          Sausage McMuffin with Egg   \n",
       "4             Breakfast                   Sausage McMuffin with Egg Whites   \n",
       "..                  ...                                                ...   \n",
       "255  Smoothies & Shakes                 McFlurry with Oreo Cookies (Small)   \n",
       "256  Smoothies & Shakes                McFlurry with Oreo Cookies (Medium)   \n",
       "257  Smoothies & Shakes                 McFlurry with Oreo Cookies (Snack)   \n",
       "258  Smoothies & Shakes  McFlurry with Reese's Peanut Butter Cups (Medium)   \n",
       "259  Smoothies & Shakes   McFlurry with Reese's Peanut Butter Cups (Snack)   \n",
       "\n",
       "        Serving Size  Calories  Calories from Fat  Total Fat  Cholesterol  \\\n",
       "0     4.8 oz (136 g)       300                120       13.0          260   \n",
       "1     4.8 oz (135 g)       250                 70        8.0           25   \n",
       "2     3.9 oz (111 g)       370                200       23.0           45   \n",
       "3     5.7 oz (161 g)       450                250       28.0          285   \n",
       "4     5.7 oz (161 g)       400                210       23.0           50   \n",
       "..               ...       ...                ...        ...          ...   \n",
       "255  10.1 oz (285 g)       510                150       17.0           45   \n",
       "256  13.4 oz (381 g)       690                200       23.0           55   \n",
       "257   6.7 oz (190 g)       340                100       11.0           30   \n",
       "258  14.2 oz (403 g)       810                290       32.0           60   \n",
       "259   7.1 oz (202 g)       410                150       16.0           30   \n",
       "\n",
       "     Sodium  Sugars  Protein  \n",
       "0       750       3       17  \n",
       "1       770       3       18  \n",
       "2       780       2       14  \n",
       "3       860       2       21  \n",
       "4       880       2       21  \n",
       "..      ...     ...      ...  \n",
       "255     280      64       12  \n",
       "256     380      85       15  \n",
       "257     190      43        8  \n",
       "258     400     103       21  \n",
       "259     200      51       10  \n",
       "\n",
       "[260 rows x 10 columns]"
      ]
     },
     "execution_count": 6,
     "metadata": {},
     "output_type": "execute_result"
    }
   ],
   "source": [
    "url='https://github.com/prasertcbs/basic-dataset/raw/master/mcdonald_menu.csv'\n",
    "df=pd.read_csv(url, usecols=['Category', 'Item', 'Serving Size', 'Calories', 'Calories from Fat', 'Total Fat', 'Cholesterol', 'Sodium', 'Sugars', 'Protein'])\n",
    "df"
   ]
  },
  {
   "cell_type": "markdown",
   "metadata": {},
   "source": [
    "## filter DataFrame"
   ]
  },
  {
   "cell_type": "code",
   "execution_count": 8,
   "metadata": {},
   "outputs": [
    {
     "data": {
      "text/html": [
       "<div>\n",
       "<style scoped>\n",
       "    .dataframe tbody tr th:only-of-type {\n",
       "        vertical-align: middle;\n",
       "    }\n",
       "\n",
       "    .dataframe tbody tr th {\n",
       "        vertical-align: top;\n",
       "    }\n",
       "\n",
       "    .dataframe thead th {\n",
       "        text-align: right;\n",
       "    }\n",
       "</style>\n",
       "<table border=\"1\" class=\"dataframe\">\n",
       "  <thead>\n",
       "    <tr style=\"text-align: right;\">\n",
       "      <th></th>\n",
       "      <th>Category</th>\n",
       "      <th>Item</th>\n",
       "      <th>Serving Size</th>\n",
       "      <th>Calories</th>\n",
       "      <th>Calories from Fat</th>\n",
       "      <th>Total Fat</th>\n",
       "      <th>Cholesterol</th>\n",
       "      <th>Sodium</th>\n",
       "      <th>Sugars</th>\n",
       "      <th>Protein</th>\n",
       "    </tr>\n",
       "  </thead>\n",
       "  <tbody>\n",
       "    <tr>\n",
       "      <th>96</th>\n",
       "      <td>Snacks &amp; Sides</td>\n",
       "      <td>Small French Fries</td>\n",
       "      <td>2.6 oz (75 g)</td>\n",
       "      <td>230</td>\n",
       "      <td>100</td>\n",
       "      <td>11.0</td>\n",
       "      <td>0</td>\n",
       "      <td>130</td>\n",
       "      <td>0</td>\n",
       "      <td>2</td>\n",
       "    </tr>\n",
       "    <tr>\n",
       "      <th>97</th>\n",
       "      <td>Snacks &amp; Sides</td>\n",
       "      <td>Medium French Fries</td>\n",
       "      <td>3.9 oz (111 g)</td>\n",
       "      <td>340</td>\n",
       "      <td>140</td>\n",
       "      <td>16.0</td>\n",
       "      <td>0</td>\n",
       "      <td>190</td>\n",
       "      <td>0</td>\n",
       "      <td>4</td>\n",
       "    </tr>\n",
       "    <tr>\n",
       "      <th>98</th>\n",
       "      <td>Snacks &amp; Sides</td>\n",
       "      <td>Large French Fries</td>\n",
       "      <td>5.9 oz (168 g)</td>\n",
       "      <td>510</td>\n",
       "      <td>220</td>\n",
       "      <td>24.0</td>\n",
       "      <td>0</td>\n",
       "      <td>290</td>\n",
       "      <td>0</td>\n",
       "      <td>6</td>\n",
       "    </tr>\n",
       "    <tr>\n",
       "      <th>99</th>\n",
       "      <td>Snacks &amp; Sides</td>\n",
       "      <td>Kids French Fries</td>\n",
       "      <td>1.3 oz (38 g)</td>\n",
       "      <td>110</td>\n",
       "      <td>50</td>\n",
       "      <td>5.0</td>\n",
       "      <td>0</td>\n",
       "      <td>65</td>\n",
       "      <td>0</td>\n",
       "      <td>1</td>\n",
       "    </tr>\n",
       "  </tbody>\n",
       "</table>\n",
       "</div>"
      ],
      "text/plain": [
       "          Category                 Item    Serving Size  Calories  \\\n",
       "96  Snacks & Sides   Small French Fries   2.6 oz (75 g)       230   \n",
       "97  Snacks & Sides  Medium French Fries  3.9 oz (111 g)       340   \n",
       "98  Snacks & Sides   Large French Fries  5.9 oz (168 g)       510   \n",
       "99  Snacks & Sides    Kids French Fries   1.3 oz (38 g)       110   \n",
       "\n",
       "    Calories from Fat  Total Fat  Cholesterol  Sodium  Sugars  Protein  \n",
       "96                100       11.0            0     130       0        2  \n",
       "97                140       16.0            0     190       0        4  \n",
       "98                220       24.0            0     290       0        6  \n",
       "99                 50        5.0            0      65       0        1  "
      ]
     },
     "execution_count": 8,
     "metadata": {},
     "output_type": "execute_result"
    }
   ],
   "source": []
  },
  {
   "cell_type": "code",
   "execution_count": 13,
   "metadata": {},
   "outputs": [
    {
     "data": {
      "application/vnd.jupyter.widget-view+json": {
       "model_id": "b5f35e20944f4dc194fabbef0807336c",
       "version_major": 2,
       "version_minor": 0
      },
      "text/plain": [
       "interactive(children=(Text(value='fries', description='menu:'), Output()), _dom_classes=('widget-interact',))"
      ]
     },
     "metadata": {},
     "output_type": "display_data"
    }
   ],
   "source": [
    "@interact # decorator\n",
    "def filter_menu(text=widgets.Text(\n",
    "    value='fries',\n",
    "    description='menu:'\n",
    ")):\n",
    "    return df[df['Item'].str.contains(text, regex=True, case=False)]"
   ]
  },
  {
   "cell_type": "code",
   "execution_count": 12,
   "metadata": {},
   "outputs": [
    {
     "data": {
      "application/vnd.jupyter.widget-view+json": {
       "model_id": "8449c90750824a9c8fe160611cbf847d",
       "version_major": 2,
       "version_minor": 0
      },
      "text/plain": [
       "interactive(children=(Text(value='big', description='menu:'), Output()), _dom_classes=('widget-interact',))"
      ]
     },
     "metadata": {},
     "output_type": "display_data"
    }
   ],
   "source": [
    "w_menu=widgets.Text(\n",
    "    value='big',\n",
    "    description='menu:'\n",
    ")\n",
    "\n",
    "@interact # decorator\n",
    "def filter_menu(text=w_menu):\n",
    "    return df[df['Item'].str.contains(text, regex=True, case=False)]"
   ]
  },
  {
   "cell_type": "code",
   "execution_count": 10,
   "metadata": {},
   "outputs": [
    {
     "data": {
      "text/html": [
       "<div>\n",
       "<style scoped>\n",
       "    .dataframe tbody tr th:only-of-type {\n",
       "        vertical-align: middle;\n",
       "    }\n",
       "\n",
       "    .dataframe tbody tr th {\n",
       "        vertical-align: top;\n",
       "    }\n",
       "\n",
       "    .dataframe thead th {\n",
       "        text-align: right;\n",
       "    }\n",
       "</style>\n",
       "<table border=\"1\" class=\"dataframe\">\n",
       "  <thead>\n",
       "    <tr style=\"text-align: right;\">\n",
       "      <th></th>\n",
       "      <th>Category</th>\n",
       "      <th>Item</th>\n",
       "      <th>Serving Size</th>\n",
       "      <th>Calories</th>\n",
       "      <th>Calories from Fat</th>\n",
       "      <th>Total Fat</th>\n",
       "      <th>Cholesterol</th>\n",
       "      <th>Sodium</th>\n",
       "      <th>Sugars</th>\n",
       "      <th>Protein</th>\n",
       "    </tr>\n",
       "  </thead>\n",
       "  <tbody>\n",
       "    <tr>\n",
       "      <th>0</th>\n",
       "      <td>Breakfast</td>\n",
       "      <td>Egg McMuffin</td>\n",
       "      <td>4.8 oz (136 g)</td>\n",
       "      <td>300</td>\n",
       "      <td>120</td>\n",
       "      <td>13.0</td>\n",
       "      <td>260</td>\n",
       "      <td>750</td>\n",
       "      <td>3</td>\n",
       "      <td>17</td>\n",
       "    </tr>\n",
       "    <tr>\n",
       "      <th>1</th>\n",
       "      <td>Breakfast</td>\n",
       "      <td>Egg White Delight</td>\n",
       "      <td>4.8 oz (135 g)</td>\n",
       "      <td>250</td>\n",
       "      <td>70</td>\n",
       "      <td>8.0</td>\n",
       "      <td>25</td>\n",
       "      <td>770</td>\n",
       "      <td>3</td>\n",
       "      <td>18</td>\n",
       "    </tr>\n",
       "    <tr>\n",
       "      <th>3</th>\n",
       "      <td>Breakfast</td>\n",
       "      <td>Sausage McMuffin with Egg</td>\n",
       "      <td>5.7 oz (161 g)</td>\n",
       "      <td>450</td>\n",
       "      <td>250</td>\n",
       "      <td>28.0</td>\n",
       "      <td>285</td>\n",
       "      <td>860</td>\n",
       "      <td>2</td>\n",
       "      <td>21</td>\n",
       "    </tr>\n",
       "    <tr>\n",
       "      <th>4</th>\n",
       "      <td>Breakfast</td>\n",
       "      <td>Sausage McMuffin with Egg Whites</td>\n",
       "      <td>5.7 oz (161 g)</td>\n",
       "      <td>400</td>\n",
       "      <td>210</td>\n",
       "      <td>23.0</td>\n",
       "      <td>50</td>\n",
       "      <td>880</td>\n",
       "      <td>2</td>\n",
       "      <td>21</td>\n",
       "    </tr>\n",
       "    <tr>\n",
       "      <th>5</th>\n",
       "      <td>Breakfast</td>\n",
       "      <td>Steak &amp; Egg McMuffin</td>\n",
       "      <td>6.5 oz (185 g)</td>\n",
       "      <td>430</td>\n",
       "      <td>210</td>\n",
       "      <td>23.0</td>\n",
       "      <td>300</td>\n",
       "      <td>960</td>\n",
       "      <td>3</td>\n",
       "      <td>26</td>\n",
       "    </tr>\n",
       "    <tr>\n",
       "      <th>...</th>\n",
       "      <td>...</td>\n",
       "      <td>...</td>\n",
       "      <td>...</td>\n",
       "      <td>...</td>\n",
       "      <td>...</td>\n",
       "      <td>...</td>\n",
       "      <td>...</td>\n",
       "      <td>...</td>\n",
       "      <td>...</td>\n",
       "      <td>...</td>\n",
       "    </tr>\n",
       "    <tr>\n",
       "      <th>26</th>\n",
       "      <td>Breakfast</td>\n",
       "      <td>Steak, Egg &amp; Cheese Bagel</td>\n",
       "      <td>8.5 oz (241 g)</td>\n",
       "      <td>670</td>\n",
       "      <td>310</td>\n",
       "      <td>35.0</td>\n",
       "      <td>295</td>\n",
       "      <td>1510</td>\n",
       "      <td>7</td>\n",
       "      <td>33</td>\n",
       "    </tr>\n",
       "    <tr>\n",
       "      <th>29</th>\n",
       "      <td>Breakfast</td>\n",
       "      <td>Big Breakfast with Egg Whites (Regular Biscuit)</td>\n",
       "      <td>9.6 oz (272 g)</td>\n",
       "      <td>640</td>\n",
       "      <td>330</td>\n",
       "      <td>37.0</td>\n",
       "      <td>35</td>\n",
       "      <td>1590</td>\n",
       "      <td>3</td>\n",
       "      <td>26</td>\n",
       "    </tr>\n",
       "    <tr>\n",
       "      <th>30</th>\n",
       "      <td>Breakfast</td>\n",
       "      <td>Big Breakfast with Egg Whites (Large Biscuit)</td>\n",
       "      <td>10.1 oz (286 g)</td>\n",
       "      <td>690</td>\n",
       "      <td>370</td>\n",
       "      <td>41.0</td>\n",
       "      <td>35</td>\n",
       "      <td>1700</td>\n",
       "      <td>4</td>\n",
       "      <td>26</td>\n",
       "    </tr>\n",
       "    <tr>\n",
       "      <th>33</th>\n",
       "      <td>Breakfast</td>\n",
       "      <td>Big Breakfast with Hotcakes and Egg Whites (Re...</td>\n",
       "      <td>14.9 oz (423 g)</td>\n",
       "      <td>990</td>\n",
       "      <td>410</td>\n",
       "      <td>46.0</td>\n",
       "      <td>55</td>\n",
       "      <td>2170</td>\n",
       "      <td>17</td>\n",
       "      <td>35</td>\n",
       "    </tr>\n",
       "    <tr>\n",
       "      <th>34</th>\n",
       "      <td>Breakfast</td>\n",
       "      <td>Big Breakfast with Hotcakes and Egg Whites (La...</td>\n",
       "      <td>15.4 oz (437 g)</td>\n",
       "      <td>1050</td>\n",
       "      <td>450</td>\n",
       "      <td>50.0</td>\n",
       "      <td>55</td>\n",
       "      <td>2290</td>\n",
       "      <td>18</td>\n",
       "      <td>35</td>\n",
       "    </tr>\n",
       "  </tbody>\n",
       "</table>\n",
       "<p>25 rows × 10 columns</p>\n",
       "</div>"
      ],
      "text/plain": [
       "     Category                                               Item  \\\n",
       "0   Breakfast                                       Egg McMuffin   \n",
       "1   Breakfast                                  Egg White Delight   \n",
       "3   Breakfast                          Sausage McMuffin with Egg   \n",
       "4   Breakfast                   Sausage McMuffin with Egg Whites   \n",
       "5   Breakfast                               Steak & Egg McMuffin   \n",
       "..        ...                                                ...   \n",
       "26  Breakfast                          Steak, Egg & Cheese Bagel   \n",
       "29  Breakfast    Big Breakfast with Egg Whites (Regular Biscuit)   \n",
       "30  Breakfast      Big Breakfast with Egg Whites (Large Biscuit)   \n",
       "33  Breakfast  Big Breakfast with Hotcakes and Egg Whites (Re...   \n",
       "34  Breakfast  Big Breakfast with Hotcakes and Egg Whites (La...   \n",
       "\n",
       "       Serving Size  Calories  Calories from Fat  Total Fat  Cholesterol  \\\n",
       "0    4.8 oz (136 g)       300                120       13.0          260   \n",
       "1    4.8 oz (135 g)       250                 70        8.0           25   \n",
       "3    5.7 oz (161 g)       450                250       28.0          285   \n",
       "4    5.7 oz (161 g)       400                210       23.0           50   \n",
       "5    6.5 oz (185 g)       430                210       23.0          300   \n",
       "..              ...       ...                ...        ...          ...   \n",
       "26   8.5 oz (241 g)       670                310       35.0          295   \n",
       "29   9.6 oz (272 g)       640                330       37.0           35   \n",
       "30  10.1 oz (286 g)       690                370       41.0           35   \n",
       "33  14.9 oz (423 g)       990                410       46.0           55   \n",
       "34  15.4 oz (437 g)      1050                450       50.0           55   \n",
       "\n",
       "    Sodium  Sugars  Protein  \n",
       "0      750       3       17  \n",
       "1      770       3       18  \n",
       "3      860       2       21  \n",
       "4      880       2       21  \n",
       "5      960       3       26  \n",
       "..     ...     ...      ...  \n",
       "26    1510       7       33  \n",
       "29    1590       3       26  \n",
       "30    1700       4       26  \n",
       "33    2170      17       35  \n",
       "34    2290      18       35  \n",
       "\n",
       "[25 rows x 10 columns]"
      ]
     },
     "execution_count": 10,
     "metadata": {},
     "output_type": "execute_result"
    }
   ],
   "source": [
    "filter_menu('egg')"
   ]
  },
  {
   "cell_type": "code",
   "execution_count": null,
   "metadata": {},
   "outputs": [],
   "source": [
    "df"
   ]
  },
  {
   "cell_type": "code",
   "execution_count": null,
   "metadata": {
    "colab": {
     "base_uri": "https://localhost:8080/",
     "height": 431,
     "referenced_widgets": [
      "3c9a929ddabc4c47ba52e58f06b08547",
      "eb608c7cc0e145c99b80a64035ae7ce4",
      "159489c95c5946d3b46121f6721af5f7",
      "b11d0b785121483a80e61b7f60c19944",
      "af4b0eeff35c41098bb530cc8dd1a61a",
      "269c71043d3044d4807b1d062492d733",
      "4ba80537cd0545efa7713212736f066f"
     ]
    },
    "colab_type": "code",
    "id": "lCXu3qMjv9Gg",
    "outputId": "ae514247-00b4-4233-b841-7b5d7087b308"
   },
   "outputs": [],
   "source": [
    "# w_item=widgets.Text(\n",
    "#     value='egg',\n",
    "#     description='Item',\n",
    "#     disabled=False\n",
    "# )\n",
    "@interact\n",
    "def filter_category(filter_item=widgets.Text(\n",
    "    value='egg',\n",
    "    description='menu',\n",
    "    disabled=False\n",
    ")):\n",
    "    return df[df['Item'].str.contains(filter_item, regex=True, case=False)]"
   ]
  },
  {
   "cell_type": "code",
   "execution_count": null,
   "metadata": {
    "colab": {
     "base_uri": "https://localhost:8080/",
     "height": 431,
     "referenced_widgets": [
      "3c9a929ddabc4c47ba52e58f06b08547",
      "eb608c7cc0e145c99b80a64035ae7ce4",
      "159489c95c5946d3b46121f6721af5f7",
      "b11d0b785121483a80e61b7f60c19944",
      "af4b0eeff35c41098bb530cc8dd1a61a",
      "269c71043d3044d4807b1d062492d733",
      "4ba80537cd0545efa7713212736f066f"
     ]
    },
    "colab_type": "code",
    "id": "lCXu3qMjv9Gg",
    "outputId": "ae514247-00b4-4233-b841-7b5d7087b308"
   },
   "outputs": [],
   "source": [
    "# w_item=widgets.Text(\n",
    "#     value='egg',\n",
    "#     description='Item',\n",
    "#     disabled=False\n",
    "# )\n",
    "@interact\n",
    "def filter_category(filter_item=widgets.Text(\n",
    "    value='egg',\n",
    "    description='menu',\n",
    "    disabled=False\n",
    "), hilite_col=['Calories', 'Calories from Fat', 'Total Fat', 'Cholesterol', 'Sodium', 'Sugars', 'Protein'],):\n",
    "    return df[df['Item'].str.contains(filter_item, regex=True, case=False)].sort_values(hilite_col).style.background_gradient(cmap='Greens', subset=[hilite_col])"
   ]
  },
  {
   "cell_type": "code",
   "execution_count": null,
   "metadata": {
    "colab": {
     "base_uri": "https://localhost:8080/",
     "height": 431,
     "referenced_widgets": [
      "3c9a929ddabc4c47ba52e58f06b08547",
      "eb608c7cc0e145c99b80a64035ae7ce4",
      "159489c95c5946d3b46121f6721af5f7",
      "b11d0b785121483a80e61b7f60c19944",
      "af4b0eeff35c41098bb530cc8dd1a61a",
      "269c71043d3044d4807b1d062492d733",
      "4ba80537cd0545efa7713212736f066f"
     ]
    },
    "colab_type": "code",
    "id": "lCXu3qMjv9Gg",
    "outputId": "ae514247-00b4-4233-b841-7b5d7087b308"
   },
   "outputs": [],
   "source": [
    "w_item=widgets.Text(\n",
    "    value='egg',\n",
    "    description='menu',\n",
    "    disabled=False\n",
    ")\n",
    "@interact\n",
    "def filter_category(filter_item=w_item):\n",
    "    return df[df['Item'].str.contains(filter_item, regex=True, case=False)].style.highlight_min(color='lightsalmon').highlight_max(color='skyblue')"
   ]
  },
  {
   "cell_type": "code",
   "execution_count": null,
   "metadata": {},
   "outputs": [],
   "source": [
    "filter_category('fries') # as a normal function"
   ]
  },
  {
   "cell_type": "code",
   "execution_count": null,
   "metadata": {},
   "outputs": [],
   "source": [
    "filter_category('tea') # as a normal function"
   ]
  },
  {
   "cell_type": "code",
   "execution_count": null,
   "metadata": {
    "colab": {
     "base_uri": "https://localhost:8080/",
     "height": 431,
     "referenced_widgets": [
      "3c9a929ddabc4c47ba52e58f06b08547",
      "eb608c7cc0e145c99b80a64035ae7ce4",
      "159489c95c5946d3b46121f6721af5f7",
      "b11d0b785121483a80e61b7f60c19944",
      "af4b0eeff35c41098bb530cc8dd1a61a",
      "269c71043d3044d4807b1d062492d733",
      "4ba80537cd0545efa7713212736f066f"
     ]
    },
    "colab_type": "code",
    "id": "lCXu3qMjv9Gg",
    "outputId": "ae514247-00b4-4233-b841-7b5d7087b308"
   },
   "outputs": [],
   "source": [
    "w_item=widgets.Text(\n",
    "    value='egg',\n",
    "    description='Item',\n",
    "    disabled=False\n",
    ")\n",
    "w_sodium=widgets.IntRangeSlider(\n",
    "    value=[2000, 3000],\n",
    "    min=df['Sodium'].min(),\n",
    "    max=df['Sodium'].max(),\n",
    "    step=10,\n",
    "    description='Sodium:',\n",
    "    orientation='horizontal',\n",
    ")\n",
    "@interact\n",
    "def filter_category(filter_item=w_item, sodium=w_sodium):\n",
    "    return df[(df['Item'].str.contains(filter_item, regex=True, case=False)) & (df['Sodium'] >= sodium[0]) & (df['Sodium'] <= sodium[1])].style.highlight_min(color='lightsalmon').highlight_max(color='skyblue')"
   ]
  },
  {
   "cell_type": "code",
   "execution_count": null,
   "metadata": {},
   "outputs": [],
   "source": [
    "df['Category'].unique()"
   ]
  },
  {
   "cell_type": "code",
   "execution_count": null,
   "metadata": {},
   "outputs": [],
   "source": [
    "w_calories=widgets.IntRangeSlider(\n",
    "    value=[200, 500],\n",
    "    min=0,\n",
    "    max=1880,\n",
    "    step=10,\n",
    "    description='Calories:',\n",
    "    orientation='horizontal',\n",
    ")\n",
    "w_calories"
   ]
  },
  {
   "cell_type": "code",
   "execution_count": null,
   "metadata": {},
   "outputs": [],
   "source": [
    "w_calories.value"
   ]
  },
  {
   "cell_type": "code",
   "execution_count": null,
   "metadata": {},
   "outputs": [],
   "source": [
    "w_calories.__dict__"
   ]
  },
  {
   "cell_type": "code",
   "execution_count": null,
   "metadata": {},
   "outputs": [],
   "source": [
    "df['Calories'].agg(['min', 'max'])"
   ]
  },
  {
   "cell_type": "code",
   "execution_count": null,
   "metadata": {},
   "outputs": [],
   "source": [
    "df['Calories'].max()"
   ]
  },
  {
   "cell_type": "code",
   "execution_count": null,
   "metadata": {
    "colab": {
     "base_uri": "https://localhost:8080/",
     "height": 431,
     "referenced_widgets": [
      "3c9a929ddabc4c47ba52e58f06b08547",
      "eb608c7cc0e145c99b80a64035ae7ce4",
      "159489c95c5946d3b46121f6721af5f7",
      "b11d0b785121483a80e61b7f60c19944",
      "af4b0eeff35c41098bb530cc8dd1a61a",
      "269c71043d3044d4807b1d062492d733",
      "4ba80537cd0545efa7713212736f066f"
     ]
    },
    "colab_type": "code",
    "id": "lCXu3qMjv9Gg",
    "outputId": "ae514247-00b4-4233-b841-7b5d7087b308"
   },
   "outputs": [],
   "source": [
    "w_calories=widgets.IntRangeSlider(\n",
    "    value=[150, 400],\n",
    "    min=df['Calories'].min(),\n",
    "    max=df['Calories'].max(),\n",
    "    step=10,\n",
    "    description='Calories:',\n",
    "    orientation='horizontal'\n",
    ")\n",
    "@interact\n",
    "def filter_category(selected_cat=df['Category'].unique(), calories=w_calories):\n",
    "    print(calories)\n",
    "    return df[(df['Category']==selected_cat) & (df['Calories'] >= calories[0]) & (df['Calories'] <= calories[1])].sort_values('Calories')"
   ]
  },
  {
   "cell_type": "code",
   "execution_count": null,
   "metadata": {
    "colab": {
     "base_uri": "https://localhost:8080/",
     "height": 431,
     "referenced_widgets": [
      "3c9a929ddabc4c47ba52e58f06b08547",
      "eb608c7cc0e145c99b80a64035ae7ce4",
      "159489c95c5946d3b46121f6721af5f7",
      "b11d0b785121483a80e61b7f60c19944",
      "af4b0eeff35c41098bb530cc8dd1a61a",
      "269c71043d3044d4807b1d062492d733",
      "4ba80537cd0545efa7713212736f066f"
     ]
    },
    "colab_type": "code",
    "id": "lCXu3qMjv9Gg",
    "outputId": "ae514247-00b4-4233-b841-7b5d7087b308"
   },
   "outputs": [],
   "source": [
    "w_calories=widgets.IntRangeSlider(\n",
    "    value=[150, 400],\n",
    "    min=df['Calories'].min(),\n",
    "    max=df['Calories'].max(),\n",
    "    step=10,\n",
    "    description='Calories:',\n",
    "    orientation='horizontal'\n",
    ")\n",
    "@interact\n",
    "def filter_category(selected_cat=df['Category'].unique(), calories=w_calories):\n",
    "    print(calories)\n",
    "    return df[(df['Category']==selected_cat) & (df['Calories'] >= calories[0]) & (df['Calories'] <= calories[1])]"
   ]
  },
  {
   "cell_type": "code",
   "execution_count": null,
   "metadata": {},
   "outputs": [],
   "source": [
    "df.columns"
   ]
  },
  {
   "cell_type": "code",
   "execution_count": null,
   "metadata": {},
   "outputs": [],
   "source": [
    "w_width=widgets.IntSlider(\n",
    "    value=12,\n",
    "    min=5,\n",
    "    max=20,\n",
    "    step=1\n",
    ")\n",
    "w_height=widgets.IntSlider(\n",
    "    value=7,\n",
    "    min=5,\n",
    "    max=20,\n",
    "    step=1\n",
    ")\n",
    "@interact\n",
    "def plot_chart(selected_col=['Calories', 'Calories from Fat', 'Total Fat', 'Cholesterol', 'Sodium', 'Sugars', 'Protein'], \n",
    "               width=w_width, height=w_height):\n",
    "    plt.figure(figsize=(width, height))\n",
    "    sns.boxplot(x=\"Category\", y=selected_col, data=df, )"
   ]
  },
  {
   "cell_type": "code",
   "execution_count": null,
   "metadata": {},
   "outputs": [],
   "source": [
    "plot_chart('Sugars', 15, 7)"
   ]
  },
  {
   "cell_type": "code",
   "execution_count": null,
   "metadata": {},
   "outputs": [],
   "source": [
    "df['Category'].unique()"
   ]
  },
  {
   "cell_type": "code",
   "execution_count": null,
   "metadata": {},
   "outputs": [],
   "source": [
    "@interact\n",
    "def plot_dist(chart_type1=['box', 'swarm'], chart_type2=['boxen', 'violin']):\n",
    "    fig, ax = plt.subplots(1, 2, figsize=(20, 6), sharey=True, sharex=True)\n",
    "    # print(ax.shape)\n",
    "    dq=df[df['Category'].isin(['Desserts', 'Beverages', 'Coffee & Tea',\n",
    "           'Smoothies & Shakes'])]\n",
    "    if chart_type1=='box':\n",
    "        sns.boxplot(data=dq, x='Category', y='Calories', ax=ax[0]);\n",
    "    else:\n",
    "        sns.swarmplot(data=dq, x='Category', y='Calories', ax=ax[0])\n",
    "    if chart_type2=='boxen':\n",
    "        sns.boxenplot(data=dq, x='Category', y='Calories', ax=ax[1]);\n",
    "    else:\n",
    "        sns.violinplot(data=dq, x='Category', y='Calories', ax=ax[1]);\n"
   ]
  },
  {
   "cell_type": "code",
   "execution_count": null,
   "metadata": {},
   "outputs": [],
   "source": [
    "sns.scatterplot(data=df, x=\"Calories\", y=\"Sugars\")"
   ]
  },
  {
   "cell_type": "code",
   "execution_count": null,
   "metadata": {},
   "outputs": [],
   "source": [
    "w_width=widgets.IntSlider(\n",
    "    value=8,\n",
    "    min=5,\n",
    "    max=20,\n",
    "    step=1\n",
    ")\n",
    "w_height=widgets.IntSlider(\n",
    "    value=8,\n",
    "    min=5,\n",
    "    max=20,\n",
    "    step=1\n",
    ")\n",
    "cols=['Calories', 'Calories from Fat', 'Total Fat', 'Cholesterol', 'Sodium', 'Sugars', 'Protein']\n",
    "@interact\n",
    "def plot_chart(selected_x=cols, selected_y=cols, width=w_width, height=w_height):\n",
    "    plt.figure(figsize=(width, height))\n",
    "    sns.scatterplot(data=df, x=selected_x, y=selected_y)\n"
   ]
  },
  {
   "cell_type": "code",
   "execution_count": null,
   "metadata": {},
   "outputs": [],
   "source": [
    "w_x=widgets.ToggleButtons(\n",
    "    options=['Calories', 'Calories from Fat', 'Total Fat', 'Cholesterol', 'Sodium', 'Sugars', 'Protein'],\n",
    "    value='Sodium',\n",
    "    description='x:',\n",
    ")\n",
    "w_y=widgets.ToggleButtons(\n",
    "    options=['Calories', 'Calories from Fat', 'Total Fat', 'Cholesterol', 'Sodium', 'Sugars', 'Protein'],\n",
    "    value='Calories',\n",
    "    description='y:',\n",
    ")\n",
    "w_width=widgets.IntSlider(\n",
    "    value=8,\n",
    "    min=5,\n",
    "    max=20,\n",
    "    step=1\n",
    ")\n",
    "w_height=widgets.IntSlider(\n",
    "    value=8,\n",
    "    min=5,\n",
    "    max=20,\n",
    "    step=1\n",
    ")\n",
    "cols=['Calories', 'Calories from Fat', 'Total Fat', 'Cholesterol', 'Sodium', 'Sugars', 'Protein']\n",
    "@interact\n",
    "def plot_chart(selected_x=w_x, selected_y=w_y, width=w_width, height=w_height):\n",
    "    plt.figure(figsize=(width, height))\n",
    "    sns.scatterplot(data=df, x=selected_x, y=selected_y)\n"
   ]
  },
  {
   "cell_type": "markdown",
   "metadata": {},
   "source": [
    "## add `All` option to `Category`"
   ]
  },
  {
   "cell_type": "code",
   "execution_count": null,
   "metadata": {},
   "outputs": [],
   "source": [
    "['All']+list(np.sort(df['Category'].unique()))"
   ]
  },
  {
   "cell_type": "code",
   "execution_count": null,
   "metadata": {},
   "outputs": [],
   "source": [
    "import math\n",
    "\n",
    "@interact\n",
    "def filter_category(selected_cat=['All']+list(np.sort(df['Category'].unique()))):\n",
    "    if selected_cat == 'All':\n",
    "        dq=df\n",
    "    else:\n",
    "        dq=df[(df['Category']==selected_cat)]\n",
    "\n",
    "    cols=['Calories', 'Calories from Fat', 'Total Fat', 'Cholesterol', 'Sodium', 'Sugars', 'Protein']\n",
    "    n=len(cols)\n",
    "    n_rows=2\n",
    "    n_cols=math.ceil(n / n_rows)\n",
    "    fig, ax = plt.subplots(n_rows, n_cols, figsize=(n_cols*3, n_rows*4))\n",
    "    ax=ax.ravel()\n",
    "    fig.tight_layout()\n",
    "    for i, c in enumerate(cols):\n",
    "        sns.histplot(data=dq[[c]], ax=ax[i])\n",
    "#         sns.boxplot(data=dq[[c]], ax=ax[i])\n",
    "#         sns.swarmplot(data=dq[[c]], ax=ax[i], alpha=.5)"
   ]
  },
  {
   "cell_type": "markdown",
   "metadata": {},
   "source": [
    "# have fun with equation"
   ]
  },
  {
   "cell_type": "markdown",
   "metadata": {},
   "source": [
    "## heart"
   ]
  },
  {
   "cell_type": "code",
   "execution_count": null,
   "metadata": {},
   "outputs": [],
   "source": [
    "@interact\n",
    "def plot_flower(\n",
    "        j=widgets.IntSlider(min=2, max=30, step=1, value=18),\n",
    "        k=widgets.IntSlider(min=2, max=30, step=1, value=11),\n",
    "        m=widgets.FloatSlider(min=-5, max=5, step=.05, value=1),\n",
    "        ):\n",
    "    theta=np.linspace(0, 2*np.pi, 360*2)\n",
    "    x=np.cos(k*theta*m)*np.cos(j*theta)\n",
    "    y=np.cos(k*theta)*np.sin(j*theta)\n",
    "    plt.figure(figsize=(7, 7))\n",
    "    plt.axis('off')\n",
    "    plt.plot(x, y, c=np.random.rand(3))"
   ]
  },
  {
   "cell_type": "code",
   "execution_count": null,
   "metadata": {},
   "outputs": [],
   "source": [
    "@interact\n",
    "def heart(j=widgets.FloatSlider(min=-150, max=150, step=1, value=150),\n",
    "          k=widgets.FloatSlider(min=-40, max=40, step=1, value=40)):\n",
    "    # http://mathworld.wolfram.com/HeartCurve.html\n",
    "    t = np.linspace(0, 2 * np.pi, 360)\n",
    "    # print(t)\n",
    "    x = 16 * np.sin(t) ** 3\n",
    "    y = k * np.cos(t) - j * np.cos(2 * t) - 2 * np.cos(3 * t) - np.cos(4 * t)\n",
    "    \n",
    "    plt.figure(figsize=(8,8))\n",
    "    plt.text(0, 0, \"I \\u2764 you\")\n",
    "    plt.axis('off')\n",
    "    for n in np.linspace(.1, 1, 10):\n",
    "        # plt.plot(x + n, y)\n",
    "        # plt.plot(x * n, y)\n",
    "        # plt.plot(x * n / 5, y)\n",
    "        plt.plot(x * n / 2, y * n / 2, c=np.random.rand(3,))"
   ]
  },
  {
   "cell_type": "markdown",
   "metadata": {},
   "source": [
    "## parabola"
   ]
  },
  {
   "cell_type": "code",
   "execution_count": null,
   "metadata": {},
   "outputs": [],
   "source": [
    "import matplotlib.pyplot as plt\n",
    "import math\n",
    "import numpy as np\n",
    "\n",
    "\n",
    "def quadratic(a, b, c):\n",
    "    # ax^2 + bx + c = 0\n",
    "    d = b * b - 4 * a * c\n",
    "    if d >= 0:\n",
    "        x1 = (-b + math.sqrt(d)) / (2 * a)\n",
    "        x2 = (-b - math.sqrt(d)) / (2 * a)\n",
    "        return x1, x2\n",
    "    else:\n",
    "        return math.nan, math.nan\n",
    "\n",
    "\n",
    "def vertex(a, b, c):\n",
    "    x = -b / (2 * a)\n",
    "    y = (4 * a * c - b ** 2) / (4 * a)\n",
    "    return x, y"
   ]
  },
  {
   "cell_type": "code",
   "execution_count": null,
   "metadata": {},
   "outputs": [],
   "source": [
    "w_a=widgets.FloatSlider(min=-150, max=150, step=1, value=2)\n",
    "w_b=widgets.FloatSlider(min=-150, max=150, step=1, value=7)\n",
    "w_c=widgets.FloatSlider(min=-150, max=150, step=1, value=3)\n",
    "@interact\n",
    "def plot_parabola(a=w_a, b=w_b, c=w_c):\n",
    "    x1, x2 = quadratic(a, b, c)\n",
    "    vx, vy = vertex(a, b, c)\n",
    "    factor = abs(x1 - x2) * .2\n",
    "    minX = min((x1, x2)) - factor\n",
    "    maxX = max((x1, x2)) + factor\n",
    "    x = np.linspace(minX, maxX, 100)\n",
    "    y = a * x ** 2 + b * x + c\n",
    "    plt.plot(x, y)\n",
    "    plt.axhline(y=0, color='r', linestyle='--')\n",
    "    plt.axvline(x=x1, color='g', linestyle='--')\n",
    "    plt.axvline(x=x2, color='g', linestyle='--')\n",
    "    plt.title(f'x1 = {x1:.2f}, x2 = {x2:.2f}\\nvertex = ({vx:.2f}, {vy:.2f})')\n",
    "#     plt.show()"
   ]
  },
  {
   "cell_type": "markdown",
   "metadata": {},
   "source": [
    "## ellipse"
   ]
  },
  {
   "cell_type": "code",
   "execution_count": null,
   "metadata": {},
   "outputs": [],
   "source": [
    "from matplotlib.patches import Ellipse\n",
    "\n",
    "w_x=widgets.FloatSlider(min=-150, max=150, step=1, value=2)\n",
    "w_y=widgets.FloatSlider(min=-150, max=150, step=1, value=7)\n",
    "w_w=widgets.FloatSlider(min=0, max=150, step=1, value=3)\n",
    "w_h=widgets.FloatSlider(min=0, max=150, step=1, value=3)\n",
    "@interact\n",
    "def plot_ellipse(x=w_x, y=w_y, w=w_w, h=w_h):\n",
    "    plt.figure(figsize=(8,8))\n",
    "    ax = plt.gca()\n",
    "    ax.set_aspect('equal')\n",
    "\n",
    "    ellipse = Ellipse(xy=(x, y), width=w, height=h, edgecolor='r', facecolor='None', lw=2)\n",
    "    ax.add_patch(ellipse)\n",
    "    plt.plot()"
   ]
  },
  {
   "cell_type": "code",
   "execution_count": null,
   "metadata": {},
   "outputs": [],
   "source": []
  }
 ],
 "metadata": {
  "kernelspec": {
   "display_name": "Python 3",
   "language": "python",
   "name": "python3"
  },
  "language_info": {
   "codemirror_mode": {
    "name": "ipython",
    "version": 3
   },
   "file_extension": ".py",
   "mimetype": "text/x-python",
   "name": "python",
   "nbconvert_exporter": "python",
   "pygments_lexer": "ipython3",
   "version": "3.7.9"
  },
  "widgets": {
   "application/vnd.jupyter.widget-state+json": {
    "state": {
     "100292c966ce4da3abf5e4456fc94211": {
      "model_module": "@jupyter-widgets/controls",
      "model_module_version": "1.5.0",
      "model_name": "DescriptionStyleModel",
      "state": {
       "description_width": ""
      }
     },
     "167dc14a868b4d229366967d582eac38": {
      "model_module": "@jupyter-widgets/base",
      "model_module_version": "1.2.0",
      "model_name": "LayoutModel",
      "state": {}
     },
     "1eebaa443b8b425cb2433fb22ea68ae0": {
      "model_module": "@jupyter-widgets/base",
      "model_module_version": "1.2.0",
      "model_name": "LayoutModel",
      "state": {}
     },
     "254837f3bacd4e07afed8f9465be7bcd": {
      "model_module": "@jupyter-widgets/base",
      "model_module_version": "1.2.0",
      "model_name": "LayoutModel",
      "state": {}
     },
     "312a3e63f1624f84832ce3ec048af676": {
      "model_module": "@jupyter-widgets/controls",
      "model_module_version": "1.5.0",
      "model_name": "TextModel",
      "state": {
       "description": "menu:",
       "layout": "IPY_MODEL_a90a9d0e154a40e686d7ced6cc82b421",
       "style": "IPY_MODEL_d516d234b80042f78ec6d0ff38d55ffe",
       "value": "egg"
      }
     },
     "350896bce4894502953cd115a540b1a0": {
      "model_module": "@jupyter-widgets/controls",
      "model_module_version": "1.5.0",
      "model_name": "TextModel",
      "state": {
       "description": "menu:",
       "layout": "IPY_MODEL_3c7cfbe29f634e889be321cd2ec9d346",
       "style": "IPY_MODEL_d57df258cddd4580809851f1a8797c99",
       "value": "big"
      }
     },
     "3c7cfbe29f634e889be321cd2ec9d346": {
      "model_module": "@jupyter-widgets/base",
      "model_module_version": "1.2.0",
      "model_name": "LayoutModel",
      "state": {}
     },
     "50c7035fc1104cbd9ad0545fd395c46e": {
      "model_module": "@jupyter-widgets/base",
      "model_module_version": "1.2.0",
      "model_name": "LayoutModel",
      "state": {}
     },
     "7d7219c1f5c645c8809f9fe144a6a897": {
      "model_module": "@jupyter-widgets/base",
      "model_module_version": "1.2.0",
      "model_name": "LayoutModel",
      "state": {}
     },
     "8449c90750824a9c8fe160611cbf847d": {
      "model_module": "@jupyter-widgets/controls",
      "model_module_version": "1.5.0",
      "model_name": "VBoxModel",
      "state": {
       "_dom_classes": [
        "widget-interact"
       ],
       "children": [
        "IPY_MODEL_350896bce4894502953cd115a540b1a0",
        "IPY_MODEL_ba93317fb094438da44e262961ad955b"
       ],
       "layout": "IPY_MODEL_fbe5332744064a1a9e260120a6d09fc1"
      }
     },
     "9322c30a96924e3e9840e7c2f0eb47f4": {
      "model_module": "@jupyter-widgets/output",
      "model_module_version": "1.0.0",
      "model_name": "OutputModel",
      "state": {
       "layout": "IPY_MODEL_e6e2791071f547969aef12d525412be4",
       "outputs": [
        {
         "data": {
          "text/html": "<div>\n<style scoped>\n    .dataframe tbody tr th:only-of-type {\n        vertical-align: middle;\n    }\n\n    .dataframe tbody tr th {\n        vertical-align: top;\n    }\n\n    .dataframe thead th {\n        text-align: right;\n    }\n</style>\n<table border=\"1\" class=\"dataframe\">\n  <thead>\n    <tr style=\"text-align: right;\">\n      <th></th>\n      <th>Category</th>\n      <th>Item</th>\n      <th>Serving Size</th>\n      <th>Calories</th>\n      <th>Calories from Fat</th>\n      <th>Total Fat</th>\n      <th>Cholesterol</th>\n      <th>Sodium</th>\n      <th>Sugars</th>\n      <th>Protein</th>\n    </tr>\n  </thead>\n  <tbody>\n    <tr>\n      <th>96</th>\n      <td>Snacks &amp; Sides</td>\n      <td>Small French Fries</td>\n      <td>2.6 oz (75 g)</td>\n      <td>230</td>\n      <td>100</td>\n      <td>11.0</td>\n      <td>0</td>\n      <td>130</td>\n      <td>0</td>\n      <td>2</td>\n    </tr>\n    <tr>\n      <th>97</th>\n      <td>Snacks &amp; Sides</td>\n      <td>Medium French Fries</td>\n      <td>3.9 oz (111 g)</td>\n      <td>340</td>\n      <td>140</td>\n      <td>16.0</td>\n      <td>0</td>\n      <td>190</td>\n      <td>0</td>\n      <td>4</td>\n    </tr>\n    <tr>\n      <th>98</th>\n      <td>Snacks &amp; Sides</td>\n      <td>Large French Fries</td>\n      <td>5.9 oz (168 g)</td>\n      <td>510</td>\n      <td>220</td>\n      <td>24.0</td>\n      <td>0</td>\n      <td>290</td>\n      <td>0</td>\n      <td>6</td>\n    </tr>\n    <tr>\n      <th>99</th>\n      <td>Snacks &amp; Sides</td>\n      <td>Kids French Fries</td>\n      <td>1.3 oz (38 g)</td>\n      <td>110</td>\n      <td>50</td>\n      <td>5.0</td>\n      <td>0</td>\n      <td>65</td>\n      <td>0</td>\n      <td>1</td>\n    </tr>\n  </tbody>\n</table>\n</div>",
          "text/plain": "          Category                 Item    Serving Size  Calories  \\\n96  Snacks & Sides   Small French Fries   2.6 oz (75 g)       230   \n97  Snacks & Sides  Medium French Fries  3.9 oz (111 g)       340   \n98  Snacks & Sides   Large French Fries  5.9 oz (168 g)       510   \n99  Snacks & Sides    Kids French Fries   1.3 oz (38 g)       110   \n\n    Calories from Fat  Total Fat  Cholesterol  Sodium  Sugars  Protein  \n96                100       11.0            0     130       0        2  \n97                140       16.0            0     190       0        4  \n98                220       24.0            0     290       0        6  \n99                 50        5.0            0      65       0        1  "
         },
         "metadata": {},
         "output_type": "display_data"
        }
       ]
      }
     },
     "a90a9d0e154a40e686d7ced6cc82b421": {
      "model_module": "@jupyter-widgets/base",
      "model_module_version": "1.2.0",
      "model_name": "LayoutModel",
      "state": {}
     },
     "aa765cfaf6a340bb855e27c6be2d4280": {
      "model_module": "@jupyter-widgets/output",
      "model_module_version": "1.0.0",
      "model_name": "OutputModel",
      "state": {
       "layout": "IPY_MODEL_50c7035fc1104cbd9ad0545fd395c46e",
       "outputs": [
        {
         "data": {
          "text/html": "<div>\n<style scoped>\n    .dataframe tbody tr th:only-of-type {\n        vertical-align: middle;\n    }\n\n    .dataframe tbody tr th {\n        vertical-align: top;\n    }\n\n    .dataframe thead th {\n        text-align: right;\n    }\n</style>\n<table border=\"1\" class=\"dataframe\">\n  <thead>\n    <tr style=\"text-align: right;\">\n      <th></th>\n      <th>Category</th>\n      <th>Item</th>\n      <th>Serving Size</th>\n      <th>Calories</th>\n      <th>Calories from Fat</th>\n      <th>Total Fat</th>\n      <th>Cholesterol</th>\n      <th>Sodium</th>\n      <th>Sugars</th>\n      <th>Protein</th>\n    </tr>\n  </thead>\n  <tbody>\n    <tr>\n      <th>0</th>\n      <td>Breakfast</td>\n      <td>Egg McMuffin</td>\n      <td>4.8 oz (136 g)</td>\n      <td>300</td>\n      <td>120</td>\n      <td>13.0</td>\n      <td>260</td>\n      <td>750</td>\n      <td>3</td>\n      <td>17</td>\n    </tr>\n    <tr>\n      <th>1</th>\n      <td>Breakfast</td>\n      <td>Egg White Delight</td>\n      <td>4.8 oz (135 g)</td>\n      <td>250</td>\n      <td>70</td>\n      <td>8.0</td>\n      <td>25</td>\n      <td>770</td>\n      <td>3</td>\n      <td>18</td>\n    </tr>\n    <tr>\n      <th>3</th>\n      <td>Breakfast</td>\n      <td>Sausage McMuffin with Egg</td>\n      <td>5.7 oz (161 g)</td>\n      <td>450</td>\n      <td>250</td>\n      <td>28.0</td>\n      <td>285</td>\n      <td>860</td>\n      <td>2</td>\n      <td>21</td>\n    </tr>\n    <tr>\n      <th>4</th>\n      <td>Breakfast</td>\n      <td>Sausage McMuffin with Egg Whites</td>\n      <td>5.7 oz (161 g)</td>\n      <td>400</td>\n      <td>210</td>\n      <td>23.0</td>\n      <td>50</td>\n      <td>880</td>\n      <td>2</td>\n      <td>21</td>\n    </tr>\n    <tr>\n      <th>5</th>\n      <td>Breakfast</td>\n      <td>Steak &amp; Egg McMuffin</td>\n      <td>6.5 oz (185 g)</td>\n      <td>430</td>\n      <td>210</td>\n      <td>23.0</td>\n      <td>300</td>\n      <td>960</td>\n      <td>3</td>\n      <td>26</td>\n    </tr>\n    <tr>\n      <th>...</th>\n      <td>...</td>\n      <td>...</td>\n      <td>...</td>\n      <td>...</td>\n      <td>...</td>\n      <td>...</td>\n      <td>...</td>\n      <td>...</td>\n      <td>...</td>\n      <td>...</td>\n    </tr>\n    <tr>\n      <th>26</th>\n      <td>Breakfast</td>\n      <td>Steak, Egg &amp; Cheese Bagel</td>\n      <td>8.5 oz (241 g)</td>\n      <td>670</td>\n      <td>310</td>\n      <td>35.0</td>\n      <td>295</td>\n      <td>1510</td>\n      <td>7</td>\n      <td>33</td>\n    </tr>\n    <tr>\n      <th>29</th>\n      <td>Breakfast</td>\n      <td>Big Breakfast with Egg Whites (Regular Biscuit)</td>\n      <td>9.6 oz (272 g)</td>\n      <td>640</td>\n      <td>330</td>\n      <td>37.0</td>\n      <td>35</td>\n      <td>1590</td>\n      <td>3</td>\n      <td>26</td>\n    </tr>\n    <tr>\n      <th>30</th>\n      <td>Breakfast</td>\n      <td>Big Breakfast with Egg Whites (Large Biscuit)</td>\n      <td>10.1 oz (286 g)</td>\n      <td>690</td>\n      <td>370</td>\n      <td>41.0</td>\n      <td>35</td>\n      <td>1700</td>\n      <td>4</td>\n      <td>26</td>\n    </tr>\n    <tr>\n      <th>33</th>\n      <td>Breakfast</td>\n      <td>Big Breakfast with Hotcakes and Egg Whites (Re...</td>\n      <td>14.9 oz (423 g)</td>\n      <td>990</td>\n      <td>410</td>\n      <td>46.0</td>\n      <td>55</td>\n      <td>2170</td>\n      <td>17</td>\n      <td>35</td>\n    </tr>\n    <tr>\n      <th>34</th>\n      <td>Breakfast</td>\n      <td>Big Breakfast with Hotcakes and Egg Whites (La...</td>\n      <td>15.4 oz (437 g)</td>\n      <td>1050</td>\n      <td>450</td>\n      <td>50.0</td>\n      <td>55</td>\n      <td>2290</td>\n      <td>18</td>\n      <td>35</td>\n    </tr>\n  </tbody>\n</table>\n<p>25 rows × 10 columns</p>\n</div>",
          "text/plain": "     Category                                               Item  \\\n0   Breakfast                                       Egg McMuffin   \n1   Breakfast                                  Egg White Delight   \n3   Breakfast                          Sausage McMuffin with Egg   \n4   Breakfast                   Sausage McMuffin with Egg Whites   \n5   Breakfast                               Steak & Egg McMuffin   \n..        ...                                                ...   \n26  Breakfast                          Steak, Egg & Cheese Bagel   \n29  Breakfast    Big Breakfast with Egg Whites (Regular Biscuit)   \n30  Breakfast      Big Breakfast with Egg Whites (Large Biscuit)   \n33  Breakfast  Big Breakfast with Hotcakes and Egg Whites (Re...   \n34  Breakfast  Big Breakfast with Hotcakes and Egg Whites (La...   \n\n       Serving Size  Calories  Calories from Fat  Total Fat  Cholesterol  \\\n0    4.8 oz (136 g)       300                120       13.0          260   \n1    4.8 oz (135 g)       250                 70        8.0           25   \n3    5.7 oz (161 g)       450                250       28.0          285   \n4    5.7 oz (161 g)       400                210       23.0           50   \n5    6.5 oz (185 g)       430                210       23.0          300   \n..              ...       ...                ...        ...          ...   \n26   8.5 oz (241 g)       670                310       35.0          295   \n29   9.6 oz (272 g)       640                330       37.0           35   \n30  10.1 oz (286 g)       690                370       41.0           35   \n33  14.9 oz (423 g)       990                410       46.0           55   \n34  15.4 oz (437 g)      1050                450       50.0           55   \n\n    Sodium  Sugars  Protein  \n0      750       3       17  \n1      770       3       18  \n3      860       2       21  \n4      880       2       21  \n5      960       3       26  \n..     ...     ...      ...  \n26    1510       7       33  \n29    1590       3       26  \n30    1700       4       26  \n33    2170      17       35  \n34    2290      18       35  \n\n[25 rows x 10 columns]"
         },
         "metadata": {},
         "output_type": "display_data"
        }
       ]
      }
     },
     "b5f35e20944f4dc194fabbef0807336c": {
      "model_module": "@jupyter-widgets/controls",
      "model_module_version": "1.5.0",
      "model_name": "VBoxModel",
      "state": {
       "_dom_classes": [
        "widget-interact"
       ],
       "children": [
        "IPY_MODEL_cb2afe7c10a049ed96dbb1cee621767f",
        "IPY_MODEL_9322c30a96924e3e9840e7c2f0eb47f4"
       ],
       "layout": "IPY_MODEL_1eebaa443b8b425cb2433fb22ea68ae0"
      }
     },
     "ba93317fb094438da44e262961ad955b": {
      "model_module": "@jupyter-widgets/output",
      "model_module_version": "1.0.0",
      "model_name": "OutputModel",
      "state": {
       "layout": "IPY_MODEL_254837f3bacd4e07afed8f9465be7bcd",
       "outputs": [
        {
         "data": {
          "text/html": "<div>\n<style scoped>\n    .dataframe tbody tr th:only-of-type {\n        vertical-align: middle;\n    }\n\n    .dataframe tbody tr th {\n        vertical-align: top;\n    }\n\n    .dataframe thead th {\n        text-align: right;\n    }\n</style>\n<table border=\"1\" class=\"dataframe\">\n  <thead>\n    <tr style=\"text-align: right;\">\n      <th></th>\n      <th>Category</th>\n      <th>Item</th>\n      <th>Serving Size</th>\n      <th>Calories</th>\n      <th>Calories from Fat</th>\n      <th>Total Fat</th>\n      <th>Cholesterol</th>\n      <th>Sodium</th>\n      <th>Sugars</th>\n      <th>Protein</th>\n    </tr>\n  </thead>\n  <tbody>\n    <tr>\n      <th>27</th>\n      <td>Breakfast</td>\n      <td>Big Breakfast (Regular Biscuit)</td>\n      <td>9.5 oz (269 g)</td>\n      <td>740</td>\n      <td>430</td>\n      <td>48.0</td>\n      <td>555</td>\n      <td>1560</td>\n      <td>3</td>\n      <td>28</td>\n    </tr>\n    <tr>\n      <th>28</th>\n      <td>Breakfast</td>\n      <td>Big Breakfast (Large Biscuit)</td>\n      <td>10 oz (283 g)</td>\n      <td>800</td>\n      <td>470</td>\n      <td>52.0</td>\n      <td>555</td>\n      <td>1680</td>\n      <td>3</td>\n      <td>28</td>\n    </tr>\n    <tr>\n      <th>29</th>\n      <td>Breakfast</td>\n      <td>Big Breakfast with Egg Whites (Regular Biscuit)</td>\n      <td>9.6 oz (272 g)</td>\n      <td>640</td>\n      <td>330</td>\n      <td>37.0</td>\n      <td>35</td>\n      <td>1590</td>\n      <td>3</td>\n      <td>26</td>\n    </tr>\n    <tr>\n      <th>30</th>\n      <td>Breakfast</td>\n      <td>Big Breakfast with Egg Whites (Large Biscuit)</td>\n      <td>10.1 oz (286 g)</td>\n      <td>690</td>\n      <td>370</td>\n      <td>41.0</td>\n      <td>35</td>\n      <td>1700</td>\n      <td>4</td>\n      <td>26</td>\n    </tr>\n    <tr>\n      <th>31</th>\n      <td>Breakfast</td>\n      <td>Big Breakfast with Hotcakes (Regular Biscuit)</td>\n      <td>14.8 oz (420 g)</td>\n      <td>1090</td>\n      <td>510</td>\n      <td>56.0</td>\n      <td>575</td>\n      <td>2150</td>\n      <td>17</td>\n      <td>36</td>\n    </tr>\n    <tr>\n      <th>32</th>\n      <td>Breakfast</td>\n      <td>Big Breakfast with Hotcakes (Large Biscuit)</td>\n      <td>15.3 oz (434 g)</td>\n      <td>1150</td>\n      <td>540</td>\n      <td>60.0</td>\n      <td>575</td>\n      <td>2260</td>\n      <td>17</td>\n      <td>36</td>\n    </tr>\n    <tr>\n      <th>33</th>\n      <td>Breakfast</td>\n      <td>Big Breakfast with Hotcakes and Egg Whites (Re...</td>\n      <td>14.9 oz (423 g)</td>\n      <td>990</td>\n      <td>410</td>\n      <td>46.0</td>\n      <td>55</td>\n      <td>2170</td>\n      <td>17</td>\n      <td>35</td>\n    </tr>\n    <tr>\n      <th>34</th>\n      <td>Breakfast</td>\n      <td>Big Breakfast with Hotcakes and Egg Whites (La...</td>\n      <td>15.4 oz (437 g)</td>\n      <td>1050</td>\n      <td>450</td>\n      <td>50.0</td>\n      <td>55</td>\n      <td>2290</td>\n      <td>18</td>\n      <td>35</td>\n    </tr>\n    <tr>\n      <th>42</th>\n      <td>Beef &amp; Pork</td>\n      <td>Big Mac</td>\n      <td>7.4 oz (211 g)</td>\n      <td>530</td>\n      <td>240</td>\n      <td>27.0</td>\n      <td>85</td>\n      <td>960</td>\n      <td>9</td>\n      <td>24</td>\n    </tr>\n  </tbody>\n</table>\n</div>",
          "text/plain": "       Category                                               Item  \\\n27    Breakfast                    Big Breakfast (Regular Biscuit)   \n28    Breakfast                      Big Breakfast (Large Biscuit)   \n29    Breakfast    Big Breakfast with Egg Whites (Regular Biscuit)   \n30    Breakfast      Big Breakfast with Egg Whites (Large Biscuit)   \n31    Breakfast      Big Breakfast with Hotcakes (Regular Biscuit)   \n32    Breakfast        Big Breakfast with Hotcakes (Large Biscuit)   \n33    Breakfast  Big Breakfast with Hotcakes and Egg Whites (Re...   \n34    Breakfast  Big Breakfast with Hotcakes and Egg Whites (La...   \n42  Beef & Pork                                            Big Mac   \n\n       Serving Size  Calories  Calories from Fat  Total Fat  Cholesterol  \\\n27   9.5 oz (269 g)       740                430       48.0          555   \n28    10 oz (283 g)       800                470       52.0          555   \n29   9.6 oz (272 g)       640                330       37.0           35   \n30  10.1 oz (286 g)       690                370       41.0           35   \n31  14.8 oz (420 g)      1090                510       56.0          575   \n32  15.3 oz (434 g)      1150                540       60.0          575   \n33  14.9 oz (423 g)       990                410       46.0           55   \n34  15.4 oz (437 g)      1050                450       50.0           55   \n42   7.4 oz (211 g)       530                240       27.0           85   \n\n    Sodium  Sugars  Protein  \n27    1560       3       28  \n28    1680       3       28  \n29    1590       3       26  \n30    1700       4       26  \n31    2150      17       36  \n32    2260      17       36  \n33    2170      17       35  \n34    2290      18       35  \n42     960       9       24  "
         },
         "metadata": {},
         "output_type": "display_data"
        }
       ]
      }
     },
     "cb2afe7c10a049ed96dbb1cee621767f": {
      "model_module": "@jupyter-widgets/controls",
      "model_module_version": "1.5.0",
      "model_name": "TextModel",
      "state": {
       "description": "menu:",
       "layout": "IPY_MODEL_7d7219c1f5c645c8809f9fe144a6a897",
       "style": "IPY_MODEL_100292c966ce4da3abf5e4456fc94211",
       "value": "fries"
      }
     },
     "d516d234b80042f78ec6d0ff38d55ffe": {
      "model_module": "@jupyter-widgets/controls",
      "model_module_version": "1.5.0",
      "model_name": "DescriptionStyleModel",
      "state": {
       "description_width": ""
      }
     },
     "d57df258cddd4580809851f1a8797c99": {
      "model_module": "@jupyter-widgets/controls",
      "model_module_version": "1.5.0",
      "model_name": "DescriptionStyleModel",
      "state": {
       "description_width": ""
      }
     },
     "e6e2791071f547969aef12d525412be4": {
      "model_module": "@jupyter-widgets/base",
      "model_module_version": "1.2.0",
      "model_name": "LayoutModel",
      "state": {}
     },
     "faae4d46d1e94407a4657d3684f22fbe": {
      "model_module": "@jupyter-widgets/controls",
      "model_module_version": "1.5.0",
      "model_name": "VBoxModel",
      "state": {
       "_dom_classes": [
        "widget-interact"
       ],
       "children": [
        "IPY_MODEL_312a3e63f1624f84832ce3ec048af676",
        "IPY_MODEL_aa765cfaf6a340bb855e27c6be2d4280"
       ],
       "layout": "IPY_MODEL_167dc14a868b4d229366967d582eac38"
      }
     },
     "fbe5332744064a1a9e260120a6d09fc1": {
      "model_module": "@jupyter-widgets/base",
      "model_module_version": "1.2.0",
      "model_name": "LayoutModel",
      "state": {}
     }
    },
    "version_major": 2,
    "version_minor": 0
   }
  }
 },
 "nbformat": 4,
 "nbformat_minor": 4
}
